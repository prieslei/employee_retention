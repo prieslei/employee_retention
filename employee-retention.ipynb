{
 "cells": [
  {
   "cell_type": "markdown",
   "metadata": {},
   "source": [
    "# Employee's retention analysis and management\n",
    "\n",
    "This Jupyter notebook contains a challenge I met during my applications for data science jobs. I was asked to create machine learning models to predict if an employee will leave the company. The dataset is fictional and contains data from the employees of a fictional company. The reason why I found this challenge interesting relies on the fact that it brings to the discussion several important concepts related to data science and business altogether. \n",
    "\n",
    "The challenge was designed to simulate a job situation. Specifically, I would have one week to develop a minimal viable product (MVP) with at least one predictive model. Then, I would present the findings to a department explaining:\n",
    "    * The data science approach for the initiative\n",
    "    * The findings of the first week\n",
    "    * The suggested next steps.\n",
    "    \n",
    "This notebook will discuss solely the model. What I will present here might be considered way more than just a prototype. It contains a robust data analysis and a careful implementation, testing, and optimization of the machine learning models. We will go through the most common steps of the machine learning pipeline. These include data analysis, feature engineering, feature selection, application of the machine learning model, and studying their performance using appropriate key performance indicators, or KPI's for short. \n",
    "\n",
    "The goal of all data scientists is to extract meaningful insights from the collected data. In general, he or she gains this insight by creating a model that will be used to make predictions with new data. His or her **goal** and the **the data itself** are what dictate the approach a scientist must take in a project. \n",
    "\n",
    "Given an employee, our goal is to predict if **an employee will leave the company**. This a yes or no question. In general, if there is a variable that contains this information in the dataframe, then we can set it as the variable we want to predict. Therefore, for this case, we must create an algorithm for **binary classification**. If there isn't such a variable but there is one that contains more than two unique values that tells us whether the employee works or not in the company, then this variable might also be used as the one we want to predict. In the case where we predict more than two values (multi-class classification), the models we must choose must make use of the **softmax classifiers**. This is a problem we solve more commonly using deep learning. However, due to the fact that deep learning requires a lot of data, we must check if our clean dataset contains enough data so that we can justify this type of modelling. If that is not the case and we want to stick to binary classification, then we must engineer the values of the variable we want to predict in order to make it assume only two values. Let us check which will be the case.\n",
    "\n",
    "Below, we present the steps we took and the model."
   ]
  },
  {
   "cell_type": "markdown",
   "metadata": {},
   "source": [
    "# 1. Data Analysis\n",
    "\n",
    "In this section we will do the data analysis step of the machine learning pipeline. Whenever we are in position to conclude something important about the data, we will enumerate it in bold such as **Conclusion #**.\n",
    "\n",
    "In general, the steps in the machine learning pipeline are not taken separately. As we will see, we will analyze the data and this will already allow us to select some features directly. For good presentation, we will separate the feature selection part for section 2.\n",
    "\n",
    "We start our analysis below in order to identify:\n",
    "\n",
    "    1.1 - Missing values\n",
    "    1.2 - Numerical variables\n",
    "    1.3 - Categorical variables\n",
    "    1.4 - Meaning of the features\n",
    "    \n",
    "===================================================================================================="
   ]
  },
  {
   "cell_type": "markdown",
   "metadata": {},
   "source": [
    "**Import the libraries**"
   ]
  },
  {
   "cell_type": "code",
   "execution_count": 1,
   "metadata": {},
   "outputs": [],
   "source": [
    "import pandas as pd\n",
    "import numpy as np\n",
    "import matplotlib.pyplot as plt\n",
    "import seaborn as sns\n",
    "\n",
    "%matplotlib inline"
   ]
  },
  {
   "cell_type": "code",
   "execution_count": 2,
   "metadata": {},
   "outputs": [],
   "source": [
    "# to display all the columns of a pandas dataframe\n",
    "pd.pandas.set_option('display.max_columns', None)"
   ]
  },
  {
   "cell_type": "markdown",
   "metadata": {},
   "source": [
    "**Load and visualize the data**"
   ]
  },
  {
   "cell_type": "code",
   "execution_count": 3,
   "metadata": {},
   "outputs": [],
   "source": [
    "df = pd.read_csv('data_employees.csv', index_col=0)"
   ]
  },
  {
   "cell_type": "code",
   "execution_count": 4,
   "metadata": {},
   "outputs": [
    {
     "data": {
      "text/html": [
       "<div>\n",
       "<style scoped>\n",
       "    .dataframe tbody tr th:only-of-type {\n",
       "        vertical-align: middle;\n",
       "    }\n",
       "\n",
       "    .dataframe tbody tr th {\n",
       "        vertical-align: top;\n",
       "    }\n",
       "\n",
       "    .dataframe thead th {\n",
       "        text-align: right;\n",
       "    }\n",
       "</style>\n",
       "<table border=\"1\" class=\"dataframe\">\n",
       "  <thead>\n",
       "    <tr style=\"text-align: right;\">\n",
       "      <th></th>\n",
       "      <th>EmployeeID</th>\n",
       "      <th>recorddate_key</th>\n",
       "      <th>birthdate_key</th>\n",
       "      <th>orighiredate_key</th>\n",
       "      <th>terminationdate_key</th>\n",
       "      <th>age</th>\n",
       "      <th>length_of_service</th>\n",
       "      <th>city_name</th>\n",
       "      <th>department_name</th>\n",
       "      <th>job_title</th>\n",
       "      <th>store_name</th>\n",
       "      <th>gender_short</th>\n",
       "      <th>gender_full</th>\n",
       "      <th>termreason_desc</th>\n",
       "      <th>termtype_desc</th>\n",
       "      <th>STATUS_YEAR</th>\n",
       "      <th>STATUS</th>\n",
       "      <th>BUSINESS_UNIT</th>\n",
       "    </tr>\n",
       "  </thead>\n",
       "  <tbody>\n",
       "    <tr>\n",
       "      <th>1</th>\n",
       "      <td>1318</td>\n",
       "      <td>12/31/2006 0:00</td>\n",
       "      <td>1/3/1954</td>\n",
       "      <td>8/28/1989</td>\n",
       "      <td>1/1/1900</td>\n",
       "      <td>52</td>\n",
       "      <td>17</td>\n",
       "      <td>Vancouver</td>\n",
       "      <td>Executive</td>\n",
       "      <td>CEO</td>\n",
       "      <td>35</td>\n",
       "      <td>M</td>\n",
       "      <td>Male</td>\n",
       "      <td>Not Applicable</td>\n",
       "      <td>Not Applicable</td>\n",
       "      <td>2006</td>\n",
       "      <td>ACTIVE</td>\n",
       "      <td>HEADOFFICE</td>\n",
       "    </tr>\n",
       "    <tr>\n",
       "      <th>2</th>\n",
       "      <td>1318</td>\n",
       "      <td>12/31/2007 0:00</td>\n",
       "      <td>1/3/1954</td>\n",
       "      <td>8/28/1989</td>\n",
       "      <td>1/1/1900</td>\n",
       "      <td>53</td>\n",
       "      <td>18</td>\n",
       "      <td>Vancouver</td>\n",
       "      <td>Executive</td>\n",
       "      <td>CEO</td>\n",
       "      <td>35</td>\n",
       "      <td>M</td>\n",
       "      <td>Male</td>\n",
       "      <td>Not Applicable</td>\n",
       "      <td>Not Applicable</td>\n",
       "      <td>2007</td>\n",
       "      <td>ACTIVE</td>\n",
       "      <td>HEADOFFICE</td>\n",
       "    </tr>\n",
       "    <tr>\n",
       "      <th>3</th>\n",
       "      <td>1318</td>\n",
       "      <td>12/31/2008 0:00</td>\n",
       "      <td>1/3/1954</td>\n",
       "      <td>8/28/1989</td>\n",
       "      <td>1/1/1900</td>\n",
       "      <td>54</td>\n",
       "      <td>19</td>\n",
       "      <td>Vancouver</td>\n",
       "      <td>Executive</td>\n",
       "      <td>CEO</td>\n",
       "      <td>35</td>\n",
       "      <td>M</td>\n",
       "      <td>Male</td>\n",
       "      <td>Not Applicable</td>\n",
       "      <td>Not Applicable</td>\n",
       "      <td>2008</td>\n",
       "      <td>ACTIVE</td>\n",
       "      <td>HEADOFFICE</td>\n",
       "    </tr>\n",
       "    <tr>\n",
       "      <th>4</th>\n",
       "      <td>1318</td>\n",
       "      <td>12/31/2009 0:00</td>\n",
       "      <td>1/3/1954</td>\n",
       "      <td>8/28/1989</td>\n",
       "      <td>1/1/1900</td>\n",
       "      <td>55</td>\n",
       "      <td>20</td>\n",
       "      <td>Vancouver</td>\n",
       "      <td>Executive</td>\n",
       "      <td>CEO</td>\n",
       "      <td>35</td>\n",
       "      <td>M</td>\n",
       "      <td>Male</td>\n",
       "      <td>Not Applicable</td>\n",
       "      <td>Not Applicable</td>\n",
       "      <td>2009</td>\n",
       "      <td>ACTIVE</td>\n",
       "      <td>HEADOFFICE</td>\n",
       "    </tr>\n",
       "    <tr>\n",
       "      <th>5</th>\n",
       "      <td>1318</td>\n",
       "      <td>12/31/2010 0:00</td>\n",
       "      <td>1/3/1954</td>\n",
       "      <td>8/28/1989</td>\n",
       "      <td>1/1/1900</td>\n",
       "      <td>56</td>\n",
       "      <td>21</td>\n",
       "      <td>Vancouver</td>\n",
       "      <td>Executive</td>\n",
       "      <td>CEO</td>\n",
       "      <td>35</td>\n",
       "      <td>M</td>\n",
       "      <td>Male</td>\n",
       "      <td>Not Applicable</td>\n",
       "      <td>Not Applicable</td>\n",
       "      <td>2010</td>\n",
       "      <td>ACTIVE</td>\n",
       "      <td>HEADOFFICE</td>\n",
       "    </tr>\n",
       "  </tbody>\n",
       "</table>\n",
       "</div>"
      ],
      "text/plain": [
       "   EmployeeID   recorddate_key birthdate_key orighiredate_key  \\\n",
       "1        1318  12/31/2006 0:00      1/3/1954        8/28/1989   \n",
       "2        1318  12/31/2007 0:00      1/3/1954        8/28/1989   \n",
       "3        1318  12/31/2008 0:00      1/3/1954        8/28/1989   \n",
       "4        1318  12/31/2009 0:00      1/3/1954        8/28/1989   \n",
       "5        1318  12/31/2010 0:00      1/3/1954        8/28/1989   \n",
       "\n",
       "  terminationdate_key  age  length_of_service  city_name department_name  \\\n",
       "1            1/1/1900   52                 17  Vancouver       Executive   \n",
       "2            1/1/1900   53                 18  Vancouver       Executive   \n",
       "3            1/1/1900   54                 19  Vancouver       Executive   \n",
       "4            1/1/1900   55                 20  Vancouver       Executive   \n",
       "5            1/1/1900   56                 21  Vancouver       Executive   \n",
       "\n",
       "  job_title  store_name gender_short gender_full termreason_desc  \\\n",
       "1       CEO          35            M        Male  Not Applicable   \n",
       "2       CEO          35            M        Male  Not Applicable   \n",
       "3       CEO          35            M        Male  Not Applicable   \n",
       "4       CEO          35            M        Male  Not Applicable   \n",
       "5       CEO          35            M        Male  Not Applicable   \n",
       "\n",
       "    termtype_desc  STATUS_YEAR  STATUS BUSINESS_UNIT  \n",
       "1  Not Applicable         2006  ACTIVE    HEADOFFICE  \n",
       "2  Not Applicable         2007  ACTIVE    HEADOFFICE  \n",
       "3  Not Applicable         2008  ACTIVE    HEADOFFICE  \n",
       "4  Not Applicable         2009  ACTIVE    HEADOFFICE  \n",
       "5  Not Applicable         2010  ACTIVE    HEADOFFICE  "
      ]
     },
     "execution_count": 4,
     "metadata": {},
     "output_type": "execute_result"
    }
   ],
   "source": [
    "df.head()"
   ]
  },
  {
   "cell_type": "markdown",
   "metadata": {},
   "source": [
    "**Number of rows and columns**"
   ]
  },
  {
   "cell_type": "code",
   "execution_count": 5,
   "metadata": {},
   "outputs": [
    {
     "data": {
      "text/plain": [
       "(44692, 18)"
      ]
     },
     "execution_count": 5,
     "metadata": {},
     "output_type": "execute_result"
    }
   ],
   "source": [
    "df.shape"
   ]
  },
  {
   "cell_type": "markdown",
   "metadata": {},
   "source": [
    "The number of rows is therefore 44692 and the number of columns is 18."
   ]
  },
  {
   "cell_type": "markdown",
   "metadata": {},
   "source": [
    "### 1.1 - Missing values\n",
    "\n",
    "In order to find the missing values we must identify the columns that contain values which are missing. The code below will create a list with the names of the columns that contain at least one data point that is missing."
   ]
  },
  {
   "cell_type": "code",
   "execution_count": 6,
   "metadata": {},
   "outputs": [],
   "source": [
    "# makes a list of the variables that contain missing values\n",
    "cols_with_na = [col for col in df.columns if df[df[col].isnull()].shape[0] > 0]"
   ]
  },
  {
   "cell_type": "code",
   "execution_count": 7,
   "metadata": {},
   "outputs": [
    {
     "data": {
      "text/plain": [
       "[]"
      ]
     },
     "execution_count": 7,
     "metadata": {},
     "output_type": "execute_result"
    }
   ],
   "source": [
    "cols_with_na"
   ]
  },
  {
   "cell_type": "markdown",
   "metadata": {},
   "source": [
    "As the list cols_with_na is empty, we conclude that there are no columns that contain missing values. Therefore, we can know exactly the amount of unique values for each variable. The code below shows the number of unique values in our dataset for each variable."
   ]
  },
  {
   "cell_type": "code",
   "execution_count": 8,
   "metadata": {
    "scrolled": true
   },
   "outputs": [
    {
     "data": {
      "text/plain": [
       "EmployeeID             6284\n",
       "recorddate_key          117\n",
       "birthdate_key          5342\n",
       "orighiredate_key       4415\n",
       "terminationdate_key    1055\n",
       "age                      47\n",
       "length_of_service        26\n",
       "city_name                40\n",
       "department_name          21\n",
       "job_title                47\n",
       "store_name               46\n",
       "gender_short              2\n",
       "gender_full               2\n",
       "termreason_desc           4\n",
       "termtype_desc             3\n",
       "STATUS_YEAR               9\n",
       "STATUS                    2\n",
       "BUSINESS_UNIT             2\n",
       "dtype: int64"
      ]
     },
     "execution_count": 8,
     "metadata": {},
     "output_type": "execute_result"
    }
   ],
   "source": [
    "df.nunique()"
   ]
  },
  {
   "cell_type": "markdown",
   "metadata": {},
   "source": [
    "**Conclusion 1**: The total number of different employees in the dataset is 6284."
   ]
  },
  {
   "cell_type": "markdown",
   "metadata": {},
   "source": [
    "**Type of variables**: It is important to know the types of each variable. The line of code below enumerates the column name and the type of variable it contains."
   ]
  },
  {
   "cell_type": "code",
   "execution_count": 9,
   "metadata": {},
   "outputs": [
    {
     "data": {
      "text/plain": [
       "EmployeeID              int64\n",
       "recorddate_key         object\n",
       "birthdate_key          object\n",
       "orighiredate_key       object\n",
       "terminationdate_key    object\n",
       "age                     int64\n",
       "length_of_service       int64\n",
       "city_name              object\n",
       "department_name        object\n",
       "job_title              object\n",
       "store_name              int64\n",
       "gender_short           object\n",
       "gender_full            object\n",
       "termreason_desc        object\n",
       "termtype_desc          object\n",
       "STATUS_YEAR             int64\n",
       "STATUS                 object\n",
       "BUSINESS_UNIT          object\n",
       "dtype: object"
      ]
     },
     "execution_count": 9,
     "metadata": {},
     "output_type": "execute_result"
    }
   ],
   "source": [
    "df.dtypes"
   ]
  },
  {
   "cell_type": "markdown",
   "metadata": {},
   "source": [
    "We see that most of our data is composed by categorical varibles (type object). Below we make a closer analysis."
   ]
  },
  {
   "cell_type": "markdown",
   "metadata": {},
   "source": [
    "### 1.2 - Numerical variables\n",
    "\n",
    "Let's separate the columns that contain different data types. The code below will create a list that contains the numerical variables."
   ]
  },
  {
   "cell_type": "code",
   "execution_count": 10,
   "metadata": {},
   "outputs": [],
   "source": [
    "# makes a list of numerical variables\n",
    "num_vars = [col for col in df.columns if df[col].dtypes != 'O']"
   ]
  },
  {
   "cell_type": "markdown",
   "metadata": {},
   "source": [
    "The columns that contain numerical values are given below."
   ]
  },
  {
   "cell_type": "code",
   "execution_count": 11,
   "metadata": {},
   "outputs": [
    {
     "data": {
      "text/plain": [
       "['EmployeeID', 'age', 'length_of_service', 'store_name', 'STATUS_YEAR']"
      ]
     },
     "execution_count": 11,
     "metadata": {},
     "output_type": "execute_result"
    }
   ],
   "source": [
    "num_vars"
   ]
  },
  {
   "cell_type": "markdown",
   "metadata": {},
   "source": [
    "We can check that 5 columns contain numerical values and see the dataframe with these variables. "
   ]
  },
  {
   "cell_type": "code",
   "execution_count": 12,
   "metadata": {
    "scrolled": false
   },
   "outputs": [
    {
     "name": "stdout",
     "output_type": "stream",
     "text": [
      "Number of numerical variables:  5\n"
     ]
    },
    {
     "data": {
      "text/html": [
       "<div>\n",
       "<style scoped>\n",
       "    .dataframe tbody tr th:only-of-type {\n",
       "        vertical-align: middle;\n",
       "    }\n",
       "\n",
       "    .dataframe tbody tr th {\n",
       "        vertical-align: top;\n",
       "    }\n",
       "\n",
       "    .dataframe thead th {\n",
       "        text-align: right;\n",
       "    }\n",
       "</style>\n",
       "<table border=\"1\" class=\"dataframe\">\n",
       "  <thead>\n",
       "    <tr style=\"text-align: right;\">\n",
       "      <th></th>\n",
       "      <th>EmployeeID</th>\n",
       "      <th>age</th>\n",
       "      <th>length_of_service</th>\n",
       "      <th>store_name</th>\n",
       "      <th>STATUS_YEAR</th>\n",
       "    </tr>\n",
       "  </thead>\n",
       "  <tbody>\n",
       "    <tr>\n",
       "      <th>1</th>\n",
       "      <td>1318</td>\n",
       "      <td>52</td>\n",
       "      <td>17</td>\n",
       "      <td>35</td>\n",
       "      <td>2006</td>\n",
       "    </tr>\n",
       "    <tr>\n",
       "      <th>2</th>\n",
       "      <td>1318</td>\n",
       "      <td>53</td>\n",
       "      <td>18</td>\n",
       "      <td>35</td>\n",
       "      <td>2007</td>\n",
       "    </tr>\n",
       "    <tr>\n",
       "      <th>3</th>\n",
       "      <td>1318</td>\n",
       "      <td>54</td>\n",
       "      <td>19</td>\n",
       "      <td>35</td>\n",
       "      <td>2008</td>\n",
       "    </tr>\n",
       "    <tr>\n",
       "      <th>4</th>\n",
       "      <td>1318</td>\n",
       "      <td>55</td>\n",
       "      <td>20</td>\n",
       "      <td>35</td>\n",
       "      <td>2009</td>\n",
       "    </tr>\n",
       "    <tr>\n",
       "      <th>5</th>\n",
       "      <td>1318</td>\n",
       "      <td>56</td>\n",
       "      <td>21</td>\n",
       "      <td>35</td>\n",
       "      <td>2010</td>\n",
       "    </tr>\n",
       "  </tbody>\n",
       "</table>\n",
       "</div>"
      ],
      "text/plain": [
       "   EmployeeID  age  length_of_service  store_name  STATUS_YEAR\n",
       "1        1318   52                 17          35         2006\n",
       "2        1318   53                 18          35         2007\n",
       "3        1318   54                 19          35         2008\n",
       "4        1318   55                 20          35         2009\n",
       "5        1318   56                 21          35         2010"
      ]
     },
     "execution_count": 12,
     "metadata": {},
     "output_type": "execute_result"
    }
   ],
   "source": [
    "print('Number of numerical variables: ', len(num_vars))\n",
    "\n",
    "# visualise the head of the dataframe with only numerical variables\n",
    "df[num_vars].head()"
   ]
  },
  {
   "cell_type": "markdown",
   "metadata": {},
   "source": [
    "We can see that the numerical variable \"EmployeeID\", which is the identification number of the employee in the company, is repeated whenever he or she spends one year in the company. Later, we will have to aggregate the data in order to avoid using features that contain the same information of other features, or delete features that do not add information at all. Another information is that the variables \"length_of_service\" and \"STATUS_YEAR\" are **temporal** variables."
   ]
  },
  {
   "cell_type": "markdown",
   "metadata": {},
   "source": [
    "#### Discrete variables\n",
    "\n",
    "The discrete numerical variables are those which have number of values that is less than a certain amount. The code below shows us which variables are discrete."
   ]
  },
  {
   "cell_type": "code",
   "execution_count": 13,
   "metadata": {},
   "outputs": [
    {
     "name": "stdout",
     "output_type": "stream",
     "text": [
      "Number of discrete variables:  4\n"
     ]
    }
   ],
   "source": [
    "# list of discrete variables\n",
    "discrete_vars = [var for var in num_vars if len(df[var].unique()) < 50 and var not in ['EmployeeID']]\n",
    "\n",
    "print('Number of discrete variables: ', len(discrete_vars))"
   ]
  },
  {
   "cell_type": "code",
   "execution_count": 14,
   "metadata": {},
   "outputs": [
    {
     "data": {
      "text/plain": [
       "['age', 'length_of_service', 'store_name', 'STATUS_YEAR']"
      ]
     },
     "execution_count": 14,
     "metadata": {},
     "output_type": "execute_result"
    }
   ],
   "source": [
    "discrete_vars"
   ]
  },
  {
   "cell_type": "markdown",
   "metadata": {},
   "source": [
    "The number of unique numerical variables is shown below."
   ]
  },
  {
   "cell_type": "code",
   "execution_count": 15,
   "metadata": {
    "scrolled": true
   },
   "outputs": [
    {
     "data": {
      "text/plain": [
       "age                  47\n",
       "length_of_service    26\n",
       "store_name           46\n",
       "STATUS_YEAR           9\n",
       "dtype: int64"
      ]
     },
     "execution_count": 15,
     "metadata": {},
     "output_type": "execute_result"
    }
   ],
   "source": [
    "df[discrete_vars].nunique()"
   ]
  },
  {
   "cell_type": "markdown",
   "metadata": {},
   "source": [
    "### 1.3 - Categorical variables\n",
    "\n",
    "Following the same line of reasoning, we create a list containing the variables which are categorical."
   ]
  },
  {
   "cell_type": "code",
   "execution_count": 16,
   "metadata": {},
   "outputs": [],
   "source": [
    "# creates a list with the categorical variables\n",
    "cat_vars = [col for col in df.columns if df[col].dtypes == 'O']"
   ]
  },
  {
   "cell_type": "code",
   "execution_count": 17,
   "metadata": {
    "scrolled": true
   },
   "outputs": [
    {
     "name": "stdout",
     "output_type": "stream",
     "text": [
      "Number of categorical variables:  13\n"
     ]
    },
    {
     "data": {
      "text/html": [
       "<div>\n",
       "<style scoped>\n",
       "    .dataframe tbody tr th:only-of-type {\n",
       "        vertical-align: middle;\n",
       "    }\n",
       "\n",
       "    .dataframe tbody tr th {\n",
       "        vertical-align: top;\n",
       "    }\n",
       "\n",
       "    .dataframe thead th {\n",
       "        text-align: right;\n",
       "    }\n",
       "</style>\n",
       "<table border=\"1\" class=\"dataframe\">\n",
       "  <thead>\n",
       "    <tr style=\"text-align: right;\">\n",
       "      <th></th>\n",
       "      <th>recorddate_key</th>\n",
       "      <th>birthdate_key</th>\n",
       "      <th>orighiredate_key</th>\n",
       "      <th>terminationdate_key</th>\n",
       "      <th>city_name</th>\n",
       "      <th>department_name</th>\n",
       "      <th>job_title</th>\n",
       "      <th>gender_short</th>\n",
       "      <th>gender_full</th>\n",
       "      <th>termreason_desc</th>\n",
       "      <th>termtype_desc</th>\n",
       "      <th>STATUS</th>\n",
       "      <th>BUSINESS_UNIT</th>\n",
       "    </tr>\n",
       "  </thead>\n",
       "  <tbody>\n",
       "    <tr>\n",
       "      <th>1</th>\n",
       "      <td>12/31/2006 0:00</td>\n",
       "      <td>1/3/1954</td>\n",
       "      <td>8/28/1989</td>\n",
       "      <td>1/1/1900</td>\n",
       "      <td>Vancouver</td>\n",
       "      <td>Executive</td>\n",
       "      <td>CEO</td>\n",
       "      <td>M</td>\n",
       "      <td>Male</td>\n",
       "      <td>Not Applicable</td>\n",
       "      <td>Not Applicable</td>\n",
       "      <td>ACTIVE</td>\n",
       "      <td>HEADOFFICE</td>\n",
       "    </tr>\n",
       "    <tr>\n",
       "      <th>2</th>\n",
       "      <td>12/31/2007 0:00</td>\n",
       "      <td>1/3/1954</td>\n",
       "      <td>8/28/1989</td>\n",
       "      <td>1/1/1900</td>\n",
       "      <td>Vancouver</td>\n",
       "      <td>Executive</td>\n",
       "      <td>CEO</td>\n",
       "      <td>M</td>\n",
       "      <td>Male</td>\n",
       "      <td>Not Applicable</td>\n",
       "      <td>Not Applicable</td>\n",
       "      <td>ACTIVE</td>\n",
       "      <td>HEADOFFICE</td>\n",
       "    </tr>\n",
       "    <tr>\n",
       "      <th>3</th>\n",
       "      <td>12/31/2008 0:00</td>\n",
       "      <td>1/3/1954</td>\n",
       "      <td>8/28/1989</td>\n",
       "      <td>1/1/1900</td>\n",
       "      <td>Vancouver</td>\n",
       "      <td>Executive</td>\n",
       "      <td>CEO</td>\n",
       "      <td>M</td>\n",
       "      <td>Male</td>\n",
       "      <td>Not Applicable</td>\n",
       "      <td>Not Applicable</td>\n",
       "      <td>ACTIVE</td>\n",
       "      <td>HEADOFFICE</td>\n",
       "    </tr>\n",
       "    <tr>\n",
       "      <th>4</th>\n",
       "      <td>12/31/2009 0:00</td>\n",
       "      <td>1/3/1954</td>\n",
       "      <td>8/28/1989</td>\n",
       "      <td>1/1/1900</td>\n",
       "      <td>Vancouver</td>\n",
       "      <td>Executive</td>\n",
       "      <td>CEO</td>\n",
       "      <td>M</td>\n",
       "      <td>Male</td>\n",
       "      <td>Not Applicable</td>\n",
       "      <td>Not Applicable</td>\n",
       "      <td>ACTIVE</td>\n",
       "      <td>HEADOFFICE</td>\n",
       "    </tr>\n",
       "    <tr>\n",
       "      <th>5</th>\n",
       "      <td>12/31/2010 0:00</td>\n",
       "      <td>1/3/1954</td>\n",
       "      <td>8/28/1989</td>\n",
       "      <td>1/1/1900</td>\n",
       "      <td>Vancouver</td>\n",
       "      <td>Executive</td>\n",
       "      <td>CEO</td>\n",
       "      <td>M</td>\n",
       "      <td>Male</td>\n",
       "      <td>Not Applicable</td>\n",
       "      <td>Not Applicable</td>\n",
       "      <td>ACTIVE</td>\n",
       "      <td>HEADOFFICE</td>\n",
       "    </tr>\n",
       "  </tbody>\n",
       "</table>\n",
       "</div>"
      ],
      "text/plain": [
       "    recorddate_key birthdate_key orighiredate_key terminationdate_key  \\\n",
       "1  12/31/2006 0:00      1/3/1954        8/28/1989            1/1/1900   \n",
       "2  12/31/2007 0:00      1/3/1954        8/28/1989            1/1/1900   \n",
       "3  12/31/2008 0:00      1/3/1954        8/28/1989            1/1/1900   \n",
       "4  12/31/2009 0:00      1/3/1954        8/28/1989            1/1/1900   \n",
       "5  12/31/2010 0:00      1/3/1954        8/28/1989            1/1/1900   \n",
       "\n",
       "   city_name department_name job_title gender_short gender_full  \\\n",
       "1  Vancouver       Executive       CEO            M        Male   \n",
       "2  Vancouver       Executive       CEO            M        Male   \n",
       "3  Vancouver       Executive       CEO            M        Male   \n",
       "4  Vancouver       Executive       CEO            M        Male   \n",
       "5  Vancouver       Executive       CEO            M        Male   \n",
       "\n",
       "  termreason_desc   termtype_desc  STATUS BUSINESS_UNIT  \n",
       "1  Not Applicable  Not Applicable  ACTIVE    HEADOFFICE  \n",
       "2  Not Applicable  Not Applicable  ACTIVE    HEADOFFICE  \n",
       "3  Not Applicable  Not Applicable  ACTIVE    HEADOFFICE  \n",
       "4  Not Applicable  Not Applicable  ACTIVE    HEADOFFICE  \n",
       "5  Not Applicable  Not Applicable  ACTIVE    HEADOFFICE  "
      ]
     },
     "execution_count": 17,
     "metadata": {},
     "output_type": "execute_result"
    }
   ],
   "source": [
    "print('Number of categorical variables: ', len(cat_vars))\n",
    "\n",
    "# visualise the head of the dataframe with only categorical variables\n",
    "df[cat_vars].head()"
   ]
  },
  {
   "cell_type": "markdown",
   "metadata": {},
   "source": [
    "A nice way of visualizing the variables is by printing their values. The code below prints the unique values of each feature in our data set. We show the first 20 values for the variables that contain several unique values."
   ]
  },
  {
   "cell_type": "code",
   "execution_count": 18,
   "metadata": {
    "scrolled": true
   },
   "outputs": [
    {
     "name": "stdout",
     "output_type": "stream",
     "text": [
      "EmployeeID [1318 1319 1320 1321 1322 1323 1325 1328 1329 1330 1331 1332 1334 1335\n",
      " 1338 1339 1340 1341 1343 1344] \n",
      "\n",
      "recorddate_key ['12/31/2006 0:00' '12/31/2007 0:00' '12/31/2008 0:00' '12/31/2009 0:00'\n",
      " '12/31/2010 0:00' '12/31/2011 0:00' '12/31/2012 0:00' '12/31/2013 0:00'\n",
      " '12/31/2014 0:00' '2/1/2009 0:00' '2/1/2014 0:00' '3/1/2014 0:00'\n",
      " '3/1/2009 0:00' '9/1/2012 0:00' '4/1/2014 0:00' '4/1/2009 0:00'\n",
      " '5/1/2009 0:00' '5/1/2014 0:00' '12/1/2014 0:00' '6/1/2009 0:00'] \n",
      "\n",
      "birthdate_key ['1/3/1954' '1/3/1957' '1/2/1955' '1/2/1959' '1/9/1958' '1/9/1962'\n",
      " '1/13/1964' '1/17/1956' '1/23/1967' '1/25/1967' '1/28/1965' '2/5/1955'\n",
      " '2/6/1961' '2/7/1962' '2/16/1949' '2/19/1949' '2/21/1949' '2/24/1949'\n",
      " '2/25/1949' '3/4/1949'] \n",
      "\n",
      "orighiredate_key ['8/28/1989' '8/31/1989' '9/2/1989' '9/5/1989' '9/8/1989' '9/9/1989'\n",
      " '9/10/1989' '9/15/1989' '9/16/1989' '9/20/1989' '9/22/1989' '9/23/1989'\n",
      " '9/25/1989' '9/29/1989' '10/2/1989' '10/3/1989' '10/4/1989' '10/5/1989'\n",
      " '10/6/1989' '10/7/1989'] \n",
      "\n",
      "terminationdate_key ['1/1/1900' '2/16/2009' '2/19/2014' '2/19/2009' '2/21/2009' '2/24/2014'\n",
      " '2/25/2014' '3/4/2014' '3/4/2009' '3/9/2009' '3/11/2014' '3/13/2009'\n",
      " '3/15/2009' '3/14/2009' '3/16/2014' '3/17/2014' '3/18/2014' '3/20/2009'\n",
      " '9/26/2012' '3/26/2009'] \n",
      "\n",
      "age [52 53 54 55 56 57 58 59 60 49 50 51 47 48 44 45 46 42 43 39] \n",
      "\n",
      "length_of_service [17 18 19 20 21 22 23 24 25 16 15 14 13 12 11 10  9  8  7  6] \n",
      "\n",
      "city_name ['Vancouver' 'Terrace' 'Nanaimo' 'Nelson' 'Kelowna' 'Victoria' 'Kamloops'\n",
      " 'Fort St John' 'Surrey' 'Vernon' 'Quesnel' 'Chilliwack' 'Dawson Creek'\n",
      " 'Squamish' 'New Westminster' 'Port Coquitlam' 'Cortes Island' 'Burnaby'\n",
      " 'Bella Bella' 'Cranbrook'] \n",
      "\n",
      "department_name ['Executive' 'Store Management' 'Meats' 'Recruitment' 'Training'\n",
      " 'Labor Relations' 'HR Technology' 'Employee Records' 'Compensation'\n",
      " 'Legal' 'Produce' 'Accounts Receiveable' 'Bakery'\n",
      " 'Information Technology' 'Accounts Payable' 'Audit' 'Accounting'\n",
      " 'Investment' 'Dairy' 'Processed Foods'] \n",
      "\n",
      "job_title ['CEO' 'VP Stores' 'Legal Counsel' 'VP Human Resources' 'VP Finance'\n",
      " 'Exec Assistant, VP Stores' 'Exec Assistant, Legal Counsel'\n",
      " 'CHief Information Officer' 'Store Manager' 'Meats Manager'\n",
      " 'Exec Assistant, Human Resources' 'Exec Assistant, Finance'\n",
      " 'Director, Recruitment' 'Director, Training' 'Director, Labor Relations'\n",
      " 'Director, HR Technology' 'Director, Employee Records'\n",
      " 'Director, Compensation' 'Corporate Lawyer' 'Produce Manager'] \n",
      "\n",
      "store_name [35 32 18 19 16 37 15 12 31 36 28  6  9 30 21 46 25  7  5  3] \n",
      "\n",
      "gender_short ['M' 'F'] \n",
      "\n",
      "gender_full ['Male' 'Female'] \n",
      "\n",
      "termreason_desc ['Not Applicable' 'Retirement' 'Resignaton' 'Layoff'] \n",
      "\n",
      "termtype_desc ['Not Applicable' 'Voluntary' 'Involuntary'] \n",
      "\n",
      "STATUS_YEAR [2006 2007 2008 2009 2010 2011 2012 2013 2014] \n",
      "\n",
      "STATUS ['ACTIVE' 'TERMINATED'] \n",
      "\n",
      "BUSINESS_UNIT ['HEADOFFICE' 'STORES'] \n",
      "\n"
     ]
    }
   ],
   "source": [
    "for col in df.columns:\n",
    "    print(col, df[col].unique()[:20], '\\n')"
   ]
  },
  {
   "cell_type": "markdown",
   "metadata": {},
   "source": [
    "Let us analyze the data for one specific employee."
   ]
  },
  {
   "cell_type": "code",
   "execution_count": 19,
   "metadata": {},
   "outputs": [
    {
     "data": {
      "text/html": [
       "<div>\n",
       "<style scoped>\n",
       "    .dataframe tbody tr th:only-of-type {\n",
       "        vertical-align: middle;\n",
       "    }\n",
       "\n",
       "    .dataframe tbody tr th {\n",
       "        vertical-align: top;\n",
       "    }\n",
       "\n",
       "    .dataframe thead th {\n",
       "        text-align: right;\n",
       "    }\n",
       "</style>\n",
       "<table border=\"1\" class=\"dataframe\">\n",
       "  <thead>\n",
       "    <tr style=\"text-align: right;\">\n",
       "      <th></th>\n",
       "      <th>EmployeeID</th>\n",
       "      <th>recorddate_key</th>\n",
       "      <th>birthdate_key</th>\n",
       "      <th>orighiredate_key</th>\n",
       "      <th>terminationdate_key</th>\n",
       "      <th>age</th>\n",
       "      <th>length_of_service</th>\n",
       "      <th>city_name</th>\n",
       "      <th>department_name</th>\n",
       "      <th>job_title</th>\n",
       "      <th>store_name</th>\n",
       "      <th>gender_short</th>\n",
       "      <th>gender_full</th>\n",
       "      <th>termreason_desc</th>\n",
       "      <th>termtype_desc</th>\n",
       "      <th>STATUS_YEAR</th>\n",
       "      <th>STATUS</th>\n",
       "      <th>BUSINESS_UNIT</th>\n",
       "    </tr>\n",
       "  </thead>\n",
       "  <tbody>\n",
       "    <tr>\n",
       "      <th>170</th>\n",
       "      <td>1344</td>\n",
       "      <td>12/31/2010 0:00</td>\n",
       "      <td>2/25/1949</td>\n",
       "      <td>9/25/1989</td>\n",
       "      <td>2/25/2014</td>\n",
       "      <td>61</td>\n",
       "      <td>21</td>\n",
       "      <td>Vancouver</td>\n",
       "      <td>HR Technology</td>\n",
       "      <td>Director, HR Technology</td>\n",
       "      <td>35</td>\n",
       "      <td>F</td>\n",
       "      <td>Female</td>\n",
       "      <td>Not Applicable</td>\n",
       "      <td>Not Applicable</td>\n",
       "      <td>2010</td>\n",
       "      <td>ACTIVE</td>\n",
       "      <td>HEADOFFICE</td>\n",
       "    </tr>\n",
       "    <tr>\n",
       "      <th>171</th>\n",
       "      <td>1344</td>\n",
       "      <td>12/31/2011 0:00</td>\n",
       "      <td>2/25/1949</td>\n",
       "      <td>9/25/1989</td>\n",
       "      <td>2/25/2014</td>\n",
       "      <td>62</td>\n",
       "      <td>22</td>\n",
       "      <td>Vancouver</td>\n",
       "      <td>HR Technology</td>\n",
       "      <td>Director, HR Technology</td>\n",
       "      <td>35</td>\n",
       "      <td>F</td>\n",
       "      <td>Female</td>\n",
       "      <td>Not Applicable</td>\n",
       "      <td>Not Applicable</td>\n",
       "      <td>2011</td>\n",
       "      <td>ACTIVE</td>\n",
       "      <td>HEADOFFICE</td>\n",
       "    </tr>\n",
       "    <tr>\n",
       "      <th>172</th>\n",
       "      <td>1344</td>\n",
       "      <td>12/31/2012 0:00</td>\n",
       "      <td>2/25/1949</td>\n",
       "      <td>9/25/1989</td>\n",
       "      <td>2/25/2014</td>\n",
       "      <td>63</td>\n",
       "      <td>23</td>\n",
       "      <td>Vancouver</td>\n",
       "      <td>HR Technology</td>\n",
       "      <td>Director, HR Technology</td>\n",
       "      <td>35</td>\n",
       "      <td>F</td>\n",
       "      <td>Female</td>\n",
       "      <td>Not Applicable</td>\n",
       "      <td>Not Applicable</td>\n",
       "      <td>2012</td>\n",
       "      <td>ACTIVE</td>\n",
       "      <td>HEADOFFICE</td>\n",
       "    </tr>\n",
       "    <tr>\n",
       "      <th>173</th>\n",
       "      <td>1344</td>\n",
       "      <td>12/31/2013 0:00</td>\n",
       "      <td>2/25/1949</td>\n",
       "      <td>9/25/1989</td>\n",
       "      <td>2/25/2014</td>\n",
       "      <td>64</td>\n",
       "      <td>24</td>\n",
       "      <td>Vancouver</td>\n",
       "      <td>HR Technology</td>\n",
       "      <td>Director, HR Technology</td>\n",
       "      <td>35</td>\n",
       "      <td>F</td>\n",
       "      <td>Female</td>\n",
       "      <td>Not Applicable</td>\n",
       "      <td>Not Applicable</td>\n",
       "      <td>2013</td>\n",
       "      <td>ACTIVE</td>\n",
       "      <td>HEADOFFICE</td>\n",
       "    </tr>\n",
       "    <tr>\n",
       "      <th>48174</th>\n",
       "      <td>1344</td>\n",
       "      <td>2/1/2014 0:00</td>\n",
       "      <td>2/25/1949</td>\n",
       "      <td>9/25/1989</td>\n",
       "      <td>2/25/2014</td>\n",
       "      <td>65</td>\n",
       "      <td>24</td>\n",
       "      <td>Vancouver</td>\n",
       "      <td>HR Technology</td>\n",
       "      <td>Director, HR Technology</td>\n",
       "      <td>35</td>\n",
       "      <td>F</td>\n",
       "      <td>Female</td>\n",
       "      <td>Retirement</td>\n",
       "      <td>Voluntary</td>\n",
       "      <td>2014</td>\n",
       "      <td>TERMINATED</td>\n",
       "      <td>HEADOFFICE</td>\n",
       "    </tr>\n",
       "  </tbody>\n",
       "</table>\n",
       "</div>"
      ],
      "text/plain": [
       "       EmployeeID   recorddate_key birthdate_key orighiredate_key  \\\n",
       "170          1344  12/31/2010 0:00     2/25/1949        9/25/1989   \n",
       "171          1344  12/31/2011 0:00     2/25/1949        9/25/1989   \n",
       "172          1344  12/31/2012 0:00     2/25/1949        9/25/1989   \n",
       "173          1344  12/31/2013 0:00     2/25/1949        9/25/1989   \n",
       "48174        1344    2/1/2014 0:00     2/25/1949        9/25/1989   \n",
       "\n",
       "      terminationdate_key  age  length_of_service  city_name department_name  \\\n",
       "170             2/25/2014   61                 21  Vancouver   HR Technology   \n",
       "171             2/25/2014   62                 22  Vancouver   HR Technology   \n",
       "172             2/25/2014   63                 23  Vancouver   HR Technology   \n",
       "173             2/25/2014   64                 24  Vancouver   HR Technology   \n",
       "48174           2/25/2014   65                 24  Vancouver   HR Technology   \n",
       "\n",
       "                     job_title  store_name gender_short gender_full  \\\n",
       "170    Director, HR Technology          35            F      Female   \n",
       "171    Director, HR Technology          35            F      Female   \n",
       "172    Director, HR Technology          35            F      Female   \n",
       "173    Director, HR Technology          35            F      Female   \n",
       "48174  Director, HR Technology          35            F      Female   \n",
       "\n",
       "      termreason_desc   termtype_desc  STATUS_YEAR      STATUS BUSINESS_UNIT  \n",
       "170    Not Applicable  Not Applicable         2010      ACTIVE    HEADOFFICE  \n",
       "171    Not Applicable  Not Applicable         2011      ACTIVE    HEADOFFICE  \n",
       "172    Not Applicable  Not Applicable         2012      ACTIVE    HEADOFFICE  \n",
       "173    Not Applicable  Not Applicable         2013      ACTIVE    HEADOFFICE  \n",
       "48174      Retirement       Voluntary         2014  TERMINATED    HEADOFFICE  "
      ]
     },
     "execution_count": 19,
     "metadata": {},
     "output_type": "execute_result"
    }
   ],
   "source": [
    "df[df['EmployeeID'] == 1344].tail()"
   ]
  },
  {
   "cell_type": "markdown",
   "metadata": {},
   "source": [
    "By looking at the data for this specific employee we can draw more conclusions:\n",
    "\n",
    "**Conclusion 2**: Data is recorded for each year of work of a given employee. The only features that change each year are recorddate_key, age, lenght_of_service, termreason_desc, termtype_desc, STATUS_YEAR and STATUS. All the other features remain the same.\n",
    "\n",
    "**Conclusion 3**: The information contained in some columns are **redundant**. By \"redundant\" we mean that the same information can be obtained from another column. \n",
    "\n",
    "### 1.4 - Meaning of the features\n",
    "In order to exclude redundant features or those with that do not contribute to our predictions we first describe what each column means.\n",
    "\n",
    "- 'EmployeeID': Number of identification of the employee. The number itself has no predictive power.\n",
    "- 'recorddate_key': Date in which the data was recorded. No predictive power. The year might have predictive power but this information is already contained in \"STATUS_YEAR\".\n",
    "- 'birthdate_key': Date of birth of the employee. As we have \"age\" in our data, \"birthdate_key\" has no predictive power.\n",
    "- 'orighiredate_key': Date in which the employee was hired. As we have \"length_of_service\" in our data, \"orighiredate_key\" has no predictive power.\n",
    "- 'terminationdate_key': Date in which the employee's contract was terminated. As we have \"length_of_service\" in our data, 'terminationdate_key' has no predictive power.\n",
    "- 'age': Age of the employee.\n",
    "- 'length_of_service': Number of years working in the company.\n",
    "- 'city_name': City of the company.\n",
    "- 'department_name': Department where the employee works\n",
    "- 'job_title': Describes the role and the position of the employee.\n",
    "- 'store_name': It is an identification number for the store.\n",
    "- 'gender_short': Abbreviation for gender.\n",
    "- 'gender_full': Gender fully written. It is redundant since we have \"gender_short\" in our data.\n",
    "- 'termreason_desc': Reason for termination of the contract, or if the employee still works in the company.\n",
    "- 'termtype_desc': Describes whether the employee left the compnay voluntaryly or not (voluntarily if employee retired or resigned, involuntarily if employee was fired). It is a redundant feature.\n",
    "- 'STATUS_YEAR': Year for which we have the given status.\n",
    "- 'STATUS': Status of the contract. If \"ACTIVE\" the employee still works there, if \"TERMINATED\" the employee no longer works there.\n",
    "- 'BUSINESS_UNIT': It says whether the employee works in the store or in the administrative office.\n",
    "\n",
    "========================================================================================================="
   ]
  },
  {
   "cell_type": "markdown",
   "metadata": {},
   "source": [
    "# 2. Feature selection"
   ]
  },
  {
   "cell_type": "markdown",
   "metadata": {},
   "source": [
    "**What is the variable we want to predict?**\n",
    "\n",
    "This is a very important question and we now give an answer to it. The variable \"STATUS\" contains only two values representing whether the employee works in the company or not. In fact, as we discussed, in this case we might easily use a binary classification algorithm. But this information is also contained in the column \"termreason_desc\", since we can infer if the employee works there by its values, which are 'Not Applicable' if he or she still works in the company, and 'Retirement', 'Resignaton', and 'Layoff' if he or she no longer works there. If we use this column as the variable we want to predict we can make use of a softmax classifier and infer if the employee's contract is still active, and if not, we can also infer the reason why he or she left. In order to decide, we must first check how much data we have after excluding redundant information."
   ]
  },
  {
   "cell_type": "markdown",
   "metadata": {},
   "source": [
    "Before excluding redundant information, we analize more closely the data for one given employee (you can take anyone)."
   ]
  },
  {
   "cell_type": "code",
   "execution_count": 20,
   "metadata": {
    "scrolled": false
   },
   "outputs": [
    {
     "data": {
      "text/html": [
       "<div>\n",
       "<style scoped>\n",
       "    .dataframe tbody tr th:only-of-type {\n",
       "        vertical-align: middle;\n",
       "    }\n",
       "\n",
       "    .dataframe tbody tr th {\n",
       "        vertical-align: top;\n",
       "    }\n",
       "\n",
       "    .dataframe thead th {\n",
       "        text-align: right;\n",
       "    }\n",
       "</style>\n",
       "<table border=\"1\" class=\"dataframe\">\n",
       "  <thead>\n",
       "    <tr style=\"text-align: right;\">\n",
       "      <th></th>\n",
       "      <th>EmployeeID</th>\n",
       "      <th>recorddate_key</th>\n",
       "      <th>birthdate_key</th>\n",
       "      <th>orighiredate_key</th>\n",
       "      <th>terminationdate_key</th>\n",
       "      <th>age</th>\n",
       "      <th>length_of_service</th>\n",
       "      <th>city_name</th>\n",
       "      <th>department_name</th>\n",
       "      <th>job_title</th>\n",
       "      <th>store_name</th>\n",
       "      <th>gender_short</th>\n",
       "      <th>gender_full</th>\n",
       "      <th>termreason_desc</th>\n",
       "      <th>termtype_desc</th>\n",
       "      <th>STATUS_YEAR</th>\n",
       "      <th>STATUS</th>\n",
       "      <th>BUSINESS_UNIT</th>\n",
       "    </tr>\n",
       "  </thead>\n",
       "  <tbody>\n",
       "    <tr>\n",
       "      <th>5</th>\n",
       "      <td>1318</td>\n",
       "      <td>12/31/2010 0:00</td>\n",
       "      <td>1/3/1954</td>\n",
       "      <td>8/28/1989</td>\n",
       "      <td>1/1/1900</td>\n",
       "      <td>56</td>\n",
       "      <td>21</td>\n",
       "      <td>Vancouver</td>\n",
       "      <td>Executive</td>\n",
       "      <td>CEO</td>\n",
       "      <td>35</td>\n",
       "      <td>M</td>\n",
       "      <td>Male</td>\n",
       "      <td>Not Applicable</td>\n",
       "      <td>Not Applicable</td>\n",
       "      <td>2010</td>\n",
       "      <td>ACTIVE</td>\n",
       "      <td>HEADOFFICE</td>\n",
       "    </tr>\n",
       "    <tr>\n",
       "      <th>6</th>\n",
       "      <td>1318</td>\n",
       "      <td>12/31/2011 0:00</td>\n",
       "      <td>1/3/1954</td>\n",
       "      <td>8/28/1989</td>\n",
       "      <td>1/1/1900</td>\n",
       "      <td>57</td>\n",
       "      <td>22</td>\n",
       "      <td>Vancouver</td>\n",
       "      <td>Executive</td>\n",
       "      <td>CEO</td>\n",
       "      <td>35</td>\n",
       "      <td>M</td>\n",
       "      <td>Male</td>\n",
       "      <td>Not Applicable</td>\n",
       "      <td>Not Applicable</td>\n",
       "      <td>2011</td>\n",
       "      <td>ACTIVE</td>\n",
       "      <td>HEADOFFICE</td>\n",
       "    </tr>\n",
       "    <tr>\n",
       "      <th>7</th>\n",
       "      <td>1318</td>\n",
       "      <td>12/31/2012 0:00</td>\n",
       "      <td>1/3/1954</td>\n",
       "      <td>8/28/1989</td>\n",
       "      <td>1/1/1900</td>\n",
       "      <td>58</td>\n",
       "      <td>23</td>\n",
       "      <td>Vancouver</td>\n",
       "      <td>Executive</td>\n",
       "      <td>CEO</td>\n",
       "      <td>35</td>\n",
       "      <td>M</td>\n",
       "      <td>Male</td>\n",
       "      <td>Not Applicable</td>\n",
       "      <td>Not Applicable</td>\n",
       "      <td>2012</td>\n",
       "      <td>ACTIVE</td>\n",
       "      <td>HEADOFFICE</td>\n",
       "    </tr>\n",
       "    <tr>\n",
       "      <th>8</th>\n",
       "      <td>1318</td>\n",
       "      <td>12/31/2013 0:00</td>\n",
       "      <td>1/3/1954</td>\n",
       "      <td>8/28/1989</td>\n",
       "      <td>1/1/1900</td>\n",
       "      <td>59</td>\n",
       "      <td>24</td>\n",
       "      <td>Vancouver</td>\n",
       "      <td>Executive</td>\n",
       "      <td>CEO</td>\n",
       "      <td>35</td>\n",
       "      <td>M</td>\n",
       "      <td>Male</td>\n",
       "      <td>Not Applicable</td>\n",
       "      <td>Not Applicable</td>\n",
       "      <td>2013</td>\n",
       "      <td>ACTIVE</td>\n",
       "      <td>HEADOFFICE</td>\n",
       "    </tr>\n",
       "    <tr>\n",
       "      <th>9</th>\n",
       "      <td>1318</td>\n",
       "      <td>12/31/2014 0:00</td>\n",
       "      <td>1/3/1954</td>\n",
       "      <td>8/28/1989</td>\n",
       "      <td>1/1/1900</td>\n",
       "      <td>60</td>\n",
       "      <td>25</td>\n",
       "      <td>Vancouver</td>\n",
       "      <td>Executive</td>\n",
       "      <td>CEO</td>\n",
       "      <td>35</td>\n",
       "      <td>M</td>\n",
       "      <td>Male</td>\n",
       "      <td>Not Applicable</td>\n",
       "      <td>Not Applicable</td>\n",
       "      <td>2014</td>\n",
       "      <td>ACTIVE</td>\n",
       "      <td>HEADOFFICE</td>\n",
       "    </tr>\n",
       "  </tbody>\n",
       "</table>\n",
       "</div>"
      ],
      "text/plain": [
       "   EmployeeID   recorddate_key birthdate_key orighiredate_key  \\\n",
       "5        1318  12/31/2010 0:00      1/3/1954        8/28/1989   \n",
       "6        1318  12/31/2011 0:00      1/3/1954        8/28/1989   \n",
       "7        1318  12/31/2012 0:00      1/3/1954        8/28/1989   \n",
       "8        1318  12/31/2013 0:00      1/3/1954        8/28/1989   \n",
       "9        1318  12/31/2014 0:00      1/3/1954        8/28/1989   \n",
       "\n",
       "  terminationdate_key  age  length_of_service  city_name department_name  \\\n",
       "5            1/1/1900   56                 21  Vancouver       Executive   \n",
       "6            1/1/1900   57                 22  Vancouver       Executive   \n",
       "7            1/1/1900   58                 23  Vancouver       Executive   \n",
       "8            1/1/1900   59                 24  Vancouver       Executive   \n",
       "9            1/1/1900   60                 25  Vancouver       Executive   \n",
       "\n",
       "  job_title  store_name gender_short gender_full termreason_desc  \\\n",
       "5       CEO          35            M        Male  Not Applicable   \n",
       "6       CEO          35            M        Male  Not Applicable   \n",
       "7       CEO          35            M        Male  Not Applicable   \n",
       "8       CEO          35            M        Male  Not Applicable   \n",
       "9       CEO          35            M        Male  Not Applicable   \n",
       "\n",
       "    termtype_desc  STATUS_YEAR  STATUS BUSINESS_UNIT  \n",
       "5  Not Applicable         2010  ACTIVE    HEADOFFICE  \n",
       "6  Not Applicable         2011  ACTIVE    HEADOFFICE  \n",
       "7  Not Applicable         2012  ACTIVE    HEADOFFICE  \n",
       "8  Not Applicable         2013  ACTIVE    HEADOFFICE  \n",
       "9  Not Applicable         2014  ACTIVE    HEADOFFICE  "
      ]
     },
     "execution_count": 20,
     "metadata": {},
     "output_type": "execute_result"
    }
   ],
   "source": [
    "df[df['EmployeeID'] == 1318].tail()"
   ]
  },
  {
   "cell_type": "markdown",
   "metadata": {},
   "source": [
    "Take the last row, which is number 9, and any previous one, such as number 6. Given that they are data for the same employee, do they contain different information? In other words, can I infer the information of one row from another? Consider the columns \"age\", \"length_of_service\", \"STATUS_YEAR\", and \"STATUS\", as shown below."
   ]
  },
  {
   "cell_type": "code",
   "execution_count": 21,
   "metadata": {
    "scrolled": true
   },
   "outputs": [
    {
     "data": {
      "text/html": [
       "<div>\n",
       "<style scoped>\n",
       "    .dataframe tbody tr th:only-of-type {\n",
       "        vertical-align: middle;\n",
       "    }\n",
       "\n",
       "    .dataframe tbody tr th {\n",
       "        vertical-align: top;\n",
       "    }\n",
       "\n",
       "    .dataframe thead th {\n",
       "        text-align: right;\n",
       "    }\n",
       "</style>\n",
       "<table border=\"1\" class=\"dataframe\">\n",
       "  <thead>\n",
       "    <tr style=\"text-align: right;\">\n",
       "      <th></th>\n",
       "      <th>age</th>\n",
       "      <th>length_of_service</th>\n",
       "      <th>STATUS_YEAR</th>\n",
       "      <th>STATUS</th>\n",
       "    </tr>\n",
       "  </thead>\n",
       "  <tbody>\n",
       "    <tr>\n",
       "      <th>6</th>\n",
       "      <td>57</td>\n",
       "      <td>22</td>\n",
       "      <td>2011</td>\n",
       "      <td>ACTIVE</td>\n",
       "    </tr>\n",
       "    <tr>\n",
       "      <th>9</th>\n",
       "      <td>60</td>\n",
       "      <td>25</td>\n",
       "      <td>2014</td>\n",
       "      <td>ACTIVE</td>\n",
       "    </tr>\n",
       "  </tbody>\n",
       "</table>\n",
       "</div>"
      ],
      "text/plain": [
       "   age  length_of_service  STATUS_YEAR  STATUS\n",
       "6   57                 22         2011  ACTIVE\n",
       "9   60                 25         2014  ACTIVE"
      ]
     },
     "execution_count": 21,
     "metadata": {},
     "output_type": "execute_result"
    }
   ],
   "source": [
    "df[df['EmployeeID'] == 1318].iloc[[5,8]][[\"age\", \"length_of_service\", \"STATUS_YEAR\",\"STATUS\"]]"
   ]
  },
  {
   "cell_type": "markdown",
   "metadata": {},
   "source": [
    "If we are given just the row 6, we can not infer \"STATUS\" for the year 2014, although we can for sure infer \"age\" and \"length_of_service\" if the employee did not terminate the contract. If we are given juust the row number 9, we can infer all the information in row number 6. If the \"STATUS\" is \"ACTIVE\" or \"TERMINATED\" in 9, it means that it is \"ACTIVE\" in any previous year. So, given the last row of data we can always infer the relevant information for any previous row of data!"
   ]
  },
  {
   "cell_type": "markdown",
   "metadata": {},
   "source": [
    "**Conclusion 4**: The only important row for a given employee is the last one: Previous relevant features with predictive power can be easily inferred by the last row. For a given employee in our dataset, we must keep only the last row and drop all the others."
   ]
  },
  {
   "cell_type": "markdown",
   "metadata": {},
   "source": [
    "**Dropping unimportant rows**\n",
    "\n",
    "We drop some data based on the conclusions 1, 2, 3, and 4.\n",
    "\n",
    "The code below keeps only the last row of data for a given employee."
   ]
  },
  {
   "cell_type": "code",
   "execution_count": 22,
   "metadata": {},
   "outputs": [],
   "source": [
    "df_partial = df.drop_duplicates('EmployeeID', keep='last')"
   ]
  },
  {
   "cell_type": "code",
   "execution_count": 23,
   "metadata": {
    "scrolled": true
   },
   "outputs": [
    {
     "data": {
      "text/html": [
       "<div>\n",
       "<style scoped>\n",
       "    .dataframe tbody tr th:only-of-type {\n",
       "        vertical-align: middle;\n",
       "    }\n",
       "\n",
       "    .dataframe tbody tr th {\n",
       "        vertical-align: top;\n",
       "    }\n",
       "\n",
       "    .dataframe thead th {\n",
       "        text-align: right;\n",
       "    }\n",
       "</style>\n",
       "<table border=\"1\" class=\"dataframe\">\n",
       "  <thead>\n",
       "    <tr style=\"text-align: right;\">\n",
       "      <th></th>\n",
       "      <th>EmployeeID</th>\n",
       "      <th>recorddate_key</th>\n",
       "      <th>birthdate_key</th>\n",
       "      <th>orighiredate_key</th>\n",
       "      <th>terminationdate_key</th>\n",
       "      <th>age</th>\n",
       "      <th>length_of_service</th>\n",
       "      <th>city_name</th>\n",
       "      <th>department_name</th>\n",
       "      <th>job_title</th>\n",
       "      <th>store_name</th>\n",
       "      <th>gender_short</th>\n",
       "      <th>gender_full</th>\n",
       "      <th>termreason_desc</th>\n",
       "      <th>termtype_desc</th>\n",
       "      <th>STATUS_YEAR</th>\n",
       "      <th>STATUS</th>\n",
       "      <th>BUSINESS_UNIT</th>\n",
       "    </tr>\n",
       "  </thead>\n",
       "  <tbody>\n",
       "    <tr>\n",
       "      <th>9</th>\n",
       "      <td>1318</td>\n",
       "      <td>12/31/2014 0:00</td>\n",
       "      <td>1/3/1954</td>\n",
       "      <td>8/28/1989</td>\n",
       "      <td>1/1/1900</td>\n",
       "      <td>60</td>\n",
       "      <td>25</td>\n",
       "      <td>Vancouver</td>\n",
       "      <td>Executive</td>\n",
       "      <td>CEO</td>\n",
       "      <td>35</td>\n",
       "      <td>M</td>\n",
       "      <td>Male</td>\n",
       "      <td>Not Applicable</td>\n",
       "      <td>Not Applicable</td>\n",
       "      <td>2014</td>\n",
       "      <td>ACTIVE</td>\n",
       "      <td>HEADOFFICE</td>\n",
       "    </tr>\n",
       "    <tr>\n",
       "      <th>19</th>\n",
       "      <td>1319</td>\n",
       "      <td>12/31/2014 0:00</td>\n",
       "      <td>1/3/1957</td>\n",
       "      <td>8/28/1989</td>\n",
       "      <td>1/1/1900</td>\n",
       "      <td>57</td>\n",
       "      <td>25</td>\n",
       "      <td>Vancouver</td>\n",
       "      <td>Executive</td>\n",
       "      <td>VP Stores</td>\n",
       "      <td>35</td>\n",
       "      <td>F</td>\n",
       "      <td>Female</td>\n",
       "      <td>Not Applicable</td>\n",
       "      <td>Not Applicable</td>\n",
       "      <td>2014</td>\n",
       "      <td>ACTIVE</td>\n",
       "      <td>HEADOFFICE</td>\n",
       "    </tr>\n",
       "    <tr>\n",
       "      <th>29</th>\n",
       "      <td>1320</td>\n",
       "      <td>12/31/2014 0:00</td>\n",
       "      <td>1/2/1955</td>\n",
       "      <td>8/28/1989</td>\n",
       "      <td>1/1/1900</td>\n",
       "      <td>59</td>\n",
       "      <td>25</td>\n",
       "      <td>Vancouver</td>\n",
       "      <td>Executive</td>\n",
       "      <td>Legal Counsel</td>\n",
       "      <td>35</td>\n",
       "      <td>F</td>\n",
       "      <td>Female</td>\n",
       "      <td>Not Applicable</td>\n",
       "      <td>Not Applicable</td>\n",
       "      <td>2014</td>\n",
       "      <td>ACTIVE</td>\n",
       "      <td>HEADOFFICE</td>\n",
       "    </tr>\n",
       "  </tbody>\n",
       "</table>\n",
       "</div>"
      ],
      "text/plain": [
       "    EmployeeID   recorddate_key birthdate_key orighiredate_key  \\\n",
       "9         1318  12/31/2014 0:00      1/3/1954        8/28/1989   \n",
       "19        1319  12/31/2014 0:00      1/3/1957        8/28/1989   \n",
       "29        1320  12/31/2014 0:00      1/2/1955        8/28/1989   \n",
       "\n",
       "   terminationdate_key  age  length_of_service  city_name department_name  \\\n",
       "9             1/1/1900   60                 25  Vancouver       Executive   \n",
       "19            1/1/1900   57                 25  Vancouver       Executive   \n",
       "29            1/1/1900   59                 25  Vancouver       Executive   \n",
       "\n",
       "        job_title  store_name gender_short gender_full termreason_desc  \\\n",
       "9             CEO          35            M        Male  Not Applicable   \n",
       "19      VP Stores          35            F      Female  Not Applicable   \n",
       "29  Legal Counsel          35            F      Female  Not Applicable   \n",
       "\n",
       "     termtype_desc  STATUS_YEAR  STATUS BUSINESS_UNIT  \n",
       "9   Not Applicable         2014  ACTIVE    HEADOFFICE  \n",
       "19  Not Applicable         2014  ACTIVE    HEADOFFICE  \n",
       "29  Not Applicable         2014  ACTIVE    HEADOFFICE  "
      ]
     },
     "execution_count": 23,
     "metadata": {},
     "output_type": "execute_result"
    }
   ],
   "source": [
    "df_partial.head(3)"
   ]
  },
  {
   "cell_type": "markdown",
   "metadata": {},
   "source": [
    "**Dropping unimportant columns**\n",
    "\n",
    "Due to the analysis done in section 1.4, we notice that most of the columns contain redundant information. In fact, we group them below in a list called drop_vars.\n",
    "\n",
    "Now, we drop all the columns with no predictive power and then reset all indices."
   ]
  },
  {
   "cell_type": "code",
   "execution_count": 24,
   "metadata": {},
   "outputs": [],
   "source": [
    "drop_vars = ['EmployeeID', 'recorddate_key', 'birthdate_key', 'orighiredate_key',\n",
    "       'terminationdate_key', 'gender_full', 'termtype_desc']"
   ]
  },
  {
   "cell_type": "code",
   "execution_count": 25,
   "metadata": {},
   "outputs": [],
   "source": [
    "data = df_partial.drop(drop_vars, axis=1).reset_index(drop=True)"
   ]
  },
  {
   "cell_type": "code",
   "execution_count": 26,
   "metadata": {
    "scrolled": true
   },
   "outputs": [
    {
     "data": {
      "text/html": [
       "<div>\n",
       "<style scoped>\n",
       "    .dataframe tbody tr th:only-of-type {\n",
       "        vertical-align: middle;\n",
       "    }\n",
       "\n",
       "    .dataframe tbody tr th {\n",
       "        vertical-align: top;\n",
       "    }\n",
       "\n",
       "    .dataframe thead th {\n",
       "        text-align: right;\n",
       "    }\n",
       "</style>\n",
       "<table border=\"1\" class=\"dataframe\">\n",
       "  <thead>\n",
       "    <tr style=\"text-align: right;\">\n",
       "      <th></th>\n",
       "      <th>age</th>\n",
       "      <th>length_of_service</th>\n",
       "      <th>city_name</th>\n",
       "      <th>department_name</th>\n",
       "      <th>job_title</th>\n",
       "      <th>store_name</th>\n",
       "      <th>gender_short</th>\n",
       "      <th>termreason_desc</th>\n",
       "      <th>STATUS_YEAR</th>\n",
       "      <th>STATUS</th>\n",
       "      <th>BUSINESS_UNIT</th>\n",
       "    </tr>\n",
       "  </thead>\n",
       "  <tbody>\n",
       "    <tr>\n",
       "      <th>0</th>\n",
       "      <td>60</td>\n",
       "      <td>25</td>\n",
       "      <td>Vancouver</td>\n",
       "      <td>Executive</td>\n",
       "      <td>CEO</td>\n",
       "      <td>35</td>\n",
       "      <td>M</td>\n",
       "      <td>Not Applicable</td>\n",
       "      <td>2014</td>\n",
       "      <td>ACTIVE</td>\n",
       "      <td>HEADOFFICE</td>\n",
       "    </tr>\n",
       "    <tr>\n",
       "      <th>1</th>\n",
       "      <td>57</td>\n",
       "      <td>25</td>\n",
       "      <td>Vancouver</td>\n",
       "      <td>Executive</td>\n",
       "      <td>VP Stores</td>\n",
       "      <td>35</td>\n",
       "      <td>F</td>\n",
       "      <td>Not Applicable</td>\n",
       "      <td>2014</td>\n",
       "      <td>ACTIVE</td>\n",
       "      <td>HEADOFFICE</td>\n",
       "    </tr>\n",
       "    <tr>\n",
       "      <th>2</th>\n",
       "      <td>59</td>\n",
       "      <td>25</td>\n",
       "      <td>Vancouver</td>\n",
       "      <td>Executive</td>\n",
       "      <td>Legal Counsel</td>\n",
       "      <td>35</td>\n",
       "      <td>F</td>\n",
       "      <td>Not Applicable</td>\n",
       "      <td>2014</td>\n",
       "      <td>ACTIVE</td>\n",
       "      <td>HEADOFFICE</td>\n",
       "    </tr>\n",
       "  </tbody>\n",
       "</table>\n",
       "</div>"
      ],
      "text/plain": [
       "   age  length_of_service  city_name department_name      job_title  \\\n",
       "0   60                 25  Vancouver       Executive            CEO   \n",
       "1   57                 25  Vancouver       Executive      VP Stores   \n",
       "2   59                 25  Vancouver       Executive  Legal Counsel   \n",
       "\n",
       "   store_name gender_short termreason_desc  STATUS_YEAR  STATUS BUSINESS_UNIT  \n",
       "0          35            M  Not Applicable         2014  ACTIVE    HEADOFFICE  \n",
       "1          35            F  Not Applicable         2014  ACTIVE    HEADOFFICE  \n",
       "2          35            F  Not Applicable         2014  ACTIVE    HEADOFFICE  "
      ]
     },
     "execution_count": 26,
     "metadata": {},
     "output_type": "execute_result"
    }
   ],
   "source": [
    "data.head(3)"
   ]
  },
  {
   "cell_type": "markdown",
   "metadata": {},
   "source": [
    "**Choosing the variable we want to predict and the appropriate algorithm**\n",
    "\n",
    "In order to make this choice we must check the dimensions of our dataframe."
   ]
  },
  {
   "cell_type": "code",
   "execution_count": 27,
   "metadata": {},
   "outputs": [
    {
     "data": {
      "text/plain": [
       "(6284, 11)"
      ]
     },
     "execution_count": 27,
     "metadata": {},
     "output_type": "execute_result"
    }
   ],
   "source": [
    "data.shape"
   ]
  },
  {
   "cell_type": "markdown",
   "metadata": {},
   "source": [
    "We remained with 6284 rows, i.e. one row for each employee, and only eleven columns. This is not a very big dataset and it is better to exclude the possibility of using any algorithms that involve softmax classifiers with deep learning. In fact, we will not use multi-classification at all.\n",
    "\n",
    "\n",
    "Now, we know for sure that we must use a binary classification algorithm. For this reason, we must choose the variable \"STATUS\" as the variable we want to predict.  We can choose a **logistic regression** algorithm, or tree based algorithm such as **decision trees** or **random forest** algorithms. We will test all of them. Although these algorithms might be used for the same purpose, it is of extremal importance to emphasize the fundamental difference them: Tree based algorithms do not make assumptions concerning the distribution of the features, unlike logistic regression that assumes that residuals in numeric variables are normally distributed. In other words, this means that we must preprocess the data a bit more for logistic regression.\n",
    "\n",
    "Since we decided to use these algorithms, the column \"termreason_desc\" becomes obsolete in our dataset: It would be relevant if we wanted to use a softmax classifier. So, we also drop it."
   ]
  },
  {
   "cell_type": "code",
   "execution_count": 28,
   "metadata": {},
   "outputs": [],
   "source": [
    "data.drop('termreason_desc', axis=1, inplace=True)"
   ]
  },
  {
   "cell_type": "code",
   "execution_count": 29,
   "metadata": {},
   "outputs": [
    {
     "data": {
      "text/plain": [
       "(6284, 10)"
      ]
     },
     "execution_count": 29,
     "metadata": {},
     "output_type": "execute_result"
    }
   ],
   "source": [
    "data.shape"
   ]
  },
  {
   "cell_type": "markdown",
   "metadata": {},
   "source": [
    "The new shape of the dataframe is now 6284 rows and 10 columns. "
   ]
  },
  {
   "cell_type": "markdown",
   "metadata": {},
   "source": [
    "**What about the evaluation set?**\n",
    "\n",
    "After modelling and evaluating the performance of our algorithm, we want to use it to make predictions with new data. This new data is contained in our evaluation set. Before feedind the model with the data, we need to check if there are any immediate flaws in our reasoning by inspecting the evaluation set. This is what we will do now.\n",
    "\n",
    "Let us read the evaluation data set and visualize its first and last three rows using the features we selected."
   ]
  },
  {
   "cell_type": "code",
   "execution_count": 30,
   "metadata": {},
   "outputs": [],
   "source": [
    "df_eval_set = pd.read_csv('eval_set.csv', index_col=0)[[t for t in data.columns if t!='STATUS']]"
   ]
  },
  {
   "cell_type": "code",
   "execution_count": 31,
   "metadata": {
    "scrolled": true
   },
   "outputs": [
    {
     "data": {
      "text/html": [
       "<div>\n",
       "<style scoped>\n",
       "    .dataframe tbody tr th:only-of-type {\n",
       "        vertical-align: middle;\n",
       "    }\n",
       "\n",
       "    .dataframe tbody tr th {\n",
       "        vertical-align: top;\n",
       "    }\n",
       "\n",
       "    .dataframe thead th {\n",
       "        text-align: right;\n",
       "    }\n",
       "</style>\n",
       "<table border=\"1\" class=\"dataframe\">\n",
       "  <thead>\n",
       "    <tr style=\"text-align: right;\">\n",
       "      <th></th>\n",
       "      <th>age</th>\n",
       "      <th>length_of_service</th>\n",
       "      <th>city_name</th>\n",
       "      <th>department_name</th>\n",
       "      <th>job_title</th>\n",
       "      <th>store_name</th>\n",
       "      <th>gender_short</th>\n",
       "      <th>STATUS_YEAR</th>\n",
       "      <th>BUSINESS_UNIT</th>\n",
       "    </tr>\n",
       "  </thead>\n",
       "  <tbody>\n",
       "    <tr>\n",
       "      <th>10</th>\n",
       "      <td>61</td>\n",
       "      <td>26</td>\n",
       "      <td>Vancouver</td>\n",
       "      <td>Executive</td>\n",
       "      <td>CEO</td>\n",
       "      <td>35</td>\n",
       "      <td>M</td>\n",
       "      <td>2015</td>\n",
       "      <td>HEADOFFICE</td>\n",
       "    </tr>\n",
       "    <tr>\n",
       "      <th>20</th>\n",
       "      <td>58</td>\n",
       "      <td>26</td>\n",
       "      <td>Vancouver</td>\n",
       "      <td>Executive</td>\n",
       "      <td>VP Stores</td>\n",
       "      <td>35</td>\n",
       "      <td>F</td>\n",
       "      <td>2015</td>\n",
       "      <td>HEADOFFICE</td>\n",
       "    </tr>\n",
       "    <tr>\n",
       "      <th>30</th>\n",
       "      <td>60</td>\n",
       "      <td>26</td>\n",
       "      <td>Vancouver</td>\n",
       "      <td>Executive</td>\n",
       "      <td>Legal Counsel</td>\n",
       "      <td>35</td>\n",
       "      <td>F</td>\n",
       "      <td>2015</td>\n",
       "      <td>HEADOFFICE</td>\n",
       "    </tr>\n",
       "  </tbody>\n",
       "</table>\n",
       "</div>"
      ],
      "text/plain": [
       "    age  length_of_service  city_name department_name      job_title  \\\n",
       "10   61                 26  Vancouver       Executive            CEO   \n",
       "20   58                 26  Vancouver       Executive      VP Stores   \n",
       "30   60                 26  Vancouver       Executive  Legal Counsel   \n",
       "\n",
       "    store_name gender_short  STATUS_YEAR BUSINESS_UNIT  \n",
       "10          35            M         2015    HEADOFFICE  \n",
       "20          35            F         2015    HEADOFFICE  \n",
       "30          35            F         2015    HEADOFFICE  "
      ]
     },
     "execution_count": 31,
     "metadata": {},
     "output_type": "execute_result"
    }
   ],
   "source": [
    "df_eval_set.head(3)"
   ]
  },
  {
   "cell_type": "code",
   "execution_count": 32,
   "metadata": {},
   "outputs": [
    {
     "data": {
      "text/html": [
       "<div>\n",
       "<style scoped>\n",
       "    .dataframe tbody tr th:only-of-type {\n",
       "        vertical-align: middle;\n",
       "    }\n",
       "\n",
       "    .dataframe tbody tr th {\n",
       "        vertical-align: top;\n",
       "    }\n",
       "\n",
       "    .dataframe thead th {\n",
       "        text-align: right;\n",
       "    }\n",
       "</style>\n",
       "<table border=\"1\" class=\"dataframe\">\n",
       "  <thead>\n",
       "    <tr style=\"text-align: right;\">\n",
       "      <th></th>\n",
       "      <th>age</th>\n",
       "      <th>length_of_service</th>\n",
       "      <th>city_name</th>\n",
       "      <th>department_name</th>\n",
       "      <th>job_title</th>\n",
       "      <th>store_name</th>\n",
       "      <th>gender_short</th>\n",
       "      <th>STATUS_YEAR</th>\n",
       "      <th>BUSINESS_UNIT</th>\n",
       "    </tr>\n",
       "  </thead>\n",
       "  <tbody>\n",
       "    <tr>\n",
       "      <th>49648</th>\n",
       "      <td>21</td>\n",
       "      <td>2</td>\n",
       "      <td>Princeton</td>\n",
       "      <td>Customer Service</td>\n",
       "      <td>Cashier</td>\n",
       "      <td>27</td>\n",
       "      <td>M</td>\n",
       "      <td>2015</td>\n",
       "      <td>STORES</td>\n",
       "    </tr>\n",
       "    <tr>\n",
       "      <th>49649</th>\n",
       "      <td>21</td>\n",
       "      <td>2</td>\n",
       "      <td>Valemount</td>\n",
       "      <td>Dairy</td>\n",
       "      <td>Dairy Person</td>\n",
       "      <td>34</td>\n",
       "      <td>M</td>\n",
       "      <td>2015</td>\n",
       "      <td>STORES</td>\n",
       "    </tr>\n",
       "    <tr>\n",
       "      <th>49651</th>\n",
       "      <td>21</td>\n",
       "      <td>2</td>\n",
       "      <td>White Rock</td>\n",
       "      <td>Customer Service</td>\n",
       "      <td>Cashier</td>\n",
       "      <td>39</td>\n",
       "      <td>F</td>\n",
       "      <td>2015</td>\n",
       "      <td>STORES</td>\n",
       "    </tr>\n",
       "  </tbody>\n",
       "</table>\n",
       "</div>"
      ],
      "text/plain": [
       "       age  length_of_service   city_name   department_name     job_title  \\\n",
       "49648   21                  2   Princeton  Customer Service       Cashier   \n",
       "49649   21                  2   Valemount             Dairy  Dairy Person   \n",
       "49651   21                  2  White Rock  Customer Service       Cashier   \n",
       "\n",
       "       store_name gender_short  STATUS_YEAR BUSINESS_UNIT  \n",
       "49648          27            M         2015        STORES  \n",
       "49649          34            M         2015        STORES  \n",
       "49651          39            F         2015        STORES  "
      ]
     },
     "execution_count": 32,
     "metadata": {},
     "output_type": "execute_result"
    }
   ],
   "source": [
    "df_eval_set.tail(3)"
   ]
  },
  {
   "cell_type": "markdown",
   "metadata": {},
   "source": [
    "The first thing we notice is that the variable \"STATUS_YEAR\" has value 2015. This value appears only in the evaluation set, and not in the dataset of the problem. The modelling dataset contains values for this variable that ends in 2014. This means **we will create a machine learning model to predict which employees will leave the company in the following year**. When we want to predict values of variables at a future time, we say that we have a **forecasting model**. There are particularities about forecasting methods that differ from a usual predictive method. The most important one is related to how we separate our data into training and test set. In a forecasting model, we separate as training set the data collected up to a certain point in time. The test set will be the remaining data corresponding to the values in the future. The training and test set must respect a chronological order. As we want to predict which employee will leave the company in the next year, the question that arises now is whether or not we must model our data using a forecasting model. Let us analyse each situation.\n",
    "\n",
    "**Situation 1: Model using forecasting methods**\n",
    "\n",
    "If that is the case we must proceed as follows:\n",
    "    i. Separate the test set using data solely of the last year in the dataset\n",
    "    ii. Train the model with data of the previous years\n",
    "    iii. Optimize the parameters to have the best performance in the training and test set\n",
    "    iv. Retrain the model using all the data and use it to forecast the values for the evaluation set\n",
    "\n",
    "\n",
    "**Situation 2: Model using ordinary predictive methods**\n",
    "\n",
    "If that is the case we must proceed as follows:\n",
    "    i. Split the data into training and test set randomly. This means the training and test sets will contain data of all the years\n",
    "    ii. Train the model \n",
    "    iii. Optimize the parameters to have the best performance in the training and test set\n",
    "    iv. Retrain the model using all the data and use it to predict the values for the evaluation set. In this case the evaluation set will contain data corresponding solely to the year 2015. \n",
    "    \n",
    "**Avoiding biases**\n",
    "\n",
    "Notice that in the first case, we are selecting data of one single year, i.e the year 2014, as our test data. As the evaluation set contains data only of the year 2015, it seems more realistic to choose forecasting methods over predictive methods: The modelling and evaluation procedure are the same! It does not seem to make so much sense to test a model with data of all the years in order to make predictions for one single year. \n",
    "\n",
    "As data scientists we must think not only about the science of extracting insights from data but also about everything related to the business. The company is not isolated from the world and it reacts several internal and external factors. Decisions made internally which are known by the data scientists are possible to implement in the model in order to adjust it to make better predictions, or, at least, to expect measurable deviations in certain directions. External factors such as financial crisis, commercial war, war, development of disruptive technologies for instance, are very hard to predict. The point is that in both cases the company will be led to hire or fire more in specific years. In other words, the company undergoes different regimes. Each regime influences the data in a particular manner. Suppose that in the year 2014 the company had to pay a lot of its debts acquired in all previous years, when it was expanding, and decisions like this never occured before. Because of that, the direction decides to fire more people in order to have more money to honor such debts. Suppose as well that we are creating a forecasting model that uses the year 2014 as test data. The performance of the model will be evaluated in such a way that we get less misclassification in both training and test set. But the test set contains a regime that is not present in the training set. Unnaware of that, the data scientist will optimize the model in order to achieve the best possible statistics. In other words, the data scientist is tunning the hyperparameters in order to obtain the best performance and consequently deploy the model. Suppose now that the data scientist achieved the desired statistical significance, deployed the model, but the model failed badly to make correct predictions. In this case, we say that the data scientist commited the mistake of **p-hacking**. This is probably one of the most dangerous biases that exist. Another problem with this approach of selecting one very special year as test set is related to the **selection bias**. The selection bias corresponds to modelling data that comes from one specific distribution and test it with data that comes from another distribution. Selecting the year 2014 as test data will likely make the algorithm suffer of selection bias. \n",
    "\n",
    "In order to avoid these biases we must avoid modelling the data using forecating methods. If we use odinary predictive models the training and test sets will contain data from different regimes (distributions). It will be way more trustworthy because it was trained and optimized with data belonging to all regimes. Saying that one model is right and the other is wrong is very complicated in data science. But if the predictions of our model will be used to take decisions that involve lives or huge amount of money, then must be conservative in every aspect in order to avoid deaths and catastrophic financial losses. These are not the case here, but we decided to use ordinary methods because, as we said, we want to avoid those biases.\n",
    "\n",
    "\n",
    "What if the evaluation set contains a regime that was never seen before? In this case the failure or success of any model is a matter of luck. The models must be avoided in the process of taking decisions.\n",
    "\n",
    "\n",
    "Since now we decided to use ordinary predictive models we have one more problem. The column \"STATUS_YEAR\" contains year 2015 for the evaluation set but this value is not present neither in the training nor in the test set. This is a pitfall we must avoid: **we can not model a binary classification algorithm and make predictions with values for categorical or temporal features it has never seen before** (or, at least, this is not good practice). For this reason, we will also drop the variable \"STATUS_YEAR\".\n",
    "\n",
    "**Drop the column \"STATUS_YEAR\" for the dataset and evaluation set**:"
   ]
  },
  {
   "cell_type": "code",
   "execution_count": 33,
   "metadata": {},
   "outputs": [],
   "source": [
    "data.drop('STATUS_YEAR', axis=1, inplace=True)"
   ]
  },
  {
   "cell_type": "code",
   "execution_count": 34,
   "metadata": {},
   "outputs": [],
   "source": [
    "df_eval_set.drop('STATUS_YEAR', axis=1, inplace=True)"
   ]
  },
  {
   "cell_type": "markdown",
   "metadata": {},
   "source": [
    "**Is the dataset balanced or unbalanced?**\n",
    "\n",
    "In a binary classification problem, we say that a dataset is balanced when the variable we want to predict have the same amount of \"yes\" and \"no\". In our case, the variable we want to predict is \"STATUS\" and whose values are \"ACTIVE\" and \"TERMINATED\". The code below gives the number of times each value appears in the dataset."
   ]
  },
  {
   "cell_type": "code",
   "execution_count": 35,
   "metadata": {},
   "outputs": [
    {
     "name": "stdout",
     "output_type": "stream",
     "text": [
      "The number of times the value ACTIVE appears is  4961.\n"
     ]
    }
   ],
   "source": [
    "print(\"The number of times the value ACTIVE appears is \", str(data[data[\"STATUS\"] == \"ACTIVE\"].shape[0]) + \".\")"
   ]
  },
  {
   "cell_type": "code",
   "execution_count": 36,
   "metadata": {},
   "outputs": [
    {
     "name": "stdout",
     "output_type": "stream",
     "text": [
      "The number of times the value TERMINATED appears is  1323.\n"
     ]
    }
   ],
   "source": [
    "print(\"The number of times the value TERMINATED appears is \", str(data[data[\"STATUS\"] == \"TERMINATED\"].shape[0]) + \".\")"
   ]
  },
  {
   "cell_type": "markdown",
   "metadata": {},
   "source": [
    "**Conclusion 5**: The dataset is unbalanced.\n",
    "\n",
    "The importance of this result relies in the fact that accuracy will not be an appropriate performance metric for our problem."
   ]
  },
  {
   "cell_type": "markdown",
   "metadata": {},
   "source": [
    "**Statistics and visualization**\n",
    "\n",
    "Many questions might arise when analyzing the data. We might ask for instance what is the age in which the employee is more likely to have the contract terminated. In order to help us answer these type of questions we will create a function that returns a dataframe containing the percentage of ACTIVE and TERMINATED contracts for a given feature with a given value.\n",
    "\n",
    "The function is given below."
   ]
  },
  {
   "cell_type": "code",
   "execution_count": 37,
   "metadata": {},
   "outputs": [],
   "source": [
    "def df_percentage(df):\n",
    "    \"\"\"\n",
    "    This function creates a multiindex dataframe. The indices represent the feature and its value. \n",
    "    The columns represent the percentage of active and terminated contracts\n",
    "    \n",
    "    Input:\n",
    "    df: pd.DataFrame - Dataframe containing the features whose percentages we want to exhibit\n",
    "    \n",
    "    Output:\n",
    "    df_perc: pd.DataFrame - Multiindex dataframe\n",
    "    \"\"\"\n",
    "    \n",
    "    # creates a list with the features\n",
    "    columns = [col for col in df.columns if col != 'STATUS']\n",
    "    \n",
    "    # creates an empty dictionary that will be used to store the data\n",
    "    perc_dict = {}\n",
    "\n",
    "    # loop over the features\n",
    "    for var in columns:\n",
    "        \n",
    "        # creates an array with the unique values for a given feature\n",
    "        values = sorted(df[var].unique())\n",
    "        \n",
    "        # loop over the unique values for a given feature\n",
    "        for val in values:\n",
    "            \n",
    "            # total amount of times a value appears for a given feature\n",
    "            num_by_feat = df[df[var] == val].shape[0]\n",
    "\n",
    "            # number of times the status is ACTIVE for the given feature and value\n",
    "            num_active = df[(df['STATUS'] == 'ACTIVE') & (df[var]==val)].shape[0]\n",
    "            \n",
    "            # percentual value for ACTIVE status for the given feature and value\n",
    "            perc_active = num_active / num_by_feat\n",
    "            \n",
    "            # percentual value for TERMINATED status for the given feature and value\n",
    "            perc_terminated = 1 - perc_active\n",
    "            \n",
    "            # store data in a dictionary\n",
    "            perc_dict[(var, val)] = [perc_active, perc_terminated]\n",
    "    \n",
    "    # creates a multiindex dataframe\n",
    "    df_perc = pd.DataFrame(perc_dict).T\n",
    "    \n",
    "    # name indices and columns\n",
    "    df_perc.index.names = ['Feature', 'Value']\n",
    "    df_perc.columns = ['ACTIVE', 'TERMINATED']\n",
    "            \n",
    "    return df_perc"
   ]
  },
  {
   "cell_type": "markdown",
   "metadata": {},
   "source": [
    "Let us apply this function in our data. Notice that we select the features for which the percentage that we compute provides  reasonable information. The columns 'termreason_desc' and 'STATUS_YEAR', for instance, can be neglected in this context."
   ]
  },
  {
   "cell_type": "code",
   "execution_count": 38,
   "metadata": {},
   "outputs": [],
   "source": [
    "df_pct = df_percentage(data[['age', 'length_of_service', 'city_name', 'department_name', 'job_title',\n",
    "       'store_name', 'STATUS', 'BUSINESS_UNIT']])"
   ]
  },
  {
   "cell_type": "markdown",
   "metadata": {},
   "source": [
    "Check the head of the resulting dataframe. All contracts were terminated when the employee was 19, and 4.8% was terminated when the employee was 20, and so on."
   ]
  },
  {
   "cell_type": "code",
   "execution_count": 39,
   "metadata": {
    "scrolled": false
   },
   "outputs": [
    {
     "data": {
      "text/html": [
       "<div>\n",
       "<style scoped>\n",
       "    .dataframe tbody tr th:only-of-type {\n",
       "        vertical-align: middle;\n",
       "    }\n",
       "\n",
       "    .dataframe tbody tr th {\n",
       "        vertical-align: top;\n",
       "    }\n",
       "\n",
       "    .dataframe thead th {\n",
       "        text-align: right;\n",
       "    }\n",
       "</style>\n",
       "<table border=\"1\" class=\"dataframe\">\n",
       "  <thead>\n",
       "    <tr style=\"text-align: right;\">\n",
       "      <th></th>\n",
       "      <th></th>\n",
       "      <th>ACTIVE</th>\n",
       "      <th>TERMINATED</th>\n",
       "    </tr>\n",
       "    <tr>\n",
       "      <th>Feature</th>\n",
       "      <th>Value</th>\n",
       "      <th></th>\n",
       "      <th></th>\n",
       "    </tr>\n",
       "  </thead>\n",
       "  <tbody>\n",
       "    <tr>\n",
       "      <th rowspan=\"5\" valign=\"top\">age</th>\n",
       "      <th>19</th>\n",
       "      <td>0.000000</td>\n",
       "      <td>1.000000</td>\n",
       "    </tr>\n",
       "    <tr>\n",
       "      <th>20</th>\n",
       "      <td>0.952000</td>\n",
       "      <td>0.048000</td>\n",
       "    </tr>\n",
       "    <tr>\n",
       "      <th>21</th>\n",
       "      <td>0.568493</td>\n",
       "      <td>0.431507</td>\n",
       "    </tr>\n",
       "    <tr>\n",
       "      <th>22</th>\n",
       "      <td>0.753968</td>\n",
       "      <td>0.246032</td>\n",
       "    </tr>\n",
       "    <tr>\n",
       "      <th>23</th>\n",
       "      <td>0.786982</td>\n",
       "      <td>0.213018</td>\n",
       "    </tr>\n",
       "  </tbody>\n",
       "</table>\n",
       "</div>"
      ],
      "text/plain": [
       "                 ACTIVE  TERMINATED\n",
       "Feature Value                      \n",
       "age     19     0.000000    1.000000\n",
       "        20     0.952000    0.048000\n",
       "        21     0.568493    0.431507\n",
       "        22     0.753968    0.246032\n",
       "        23     0.786982    0.213018"
      ]
     },
     "execution_count": 39,
     "metadata": {},
     "output_type": "execute_result"
    }
   ],
   "source": [
    "df_pct.head()"
   ]
  },
  {
   "cell_type": "code",
   "execution_count": 40,
   "metadata": {},
   "outputs": [
    {
     "data": {
      "text/html": [
       "<div>\n",
       "<style scoped>\n",
       "    .dataframe tbody tr th:only-of-type {\n",
       "        vertical-align: middle;\n",
       "    }\n",
       "\n",
       "    .dataframe tbody tr th {\n",
       "        vertical-align: top;\n",
       "    }\n",
       "\n",
       "    .dataframe thead th {\n",
       "        text-align: right;\n",
       "    }\n",
       "</style>\n",
       "<table border=\"1\" class=\"dataframe\">\n",
       "  <thead>\n",
       "    <tr style=\"text-align: right;\">\n",
       "      <th></th>\n",
       "      <th></th>\n",
       "      <th>ACTIVE</th>\n",
       "      <th>TERMINATED</th>\n",
       "    </tr>\n",
       "    <tr>\n",
       "      <th>Feature</th>\n",
       "      <th>Value</th>\n",
       "      <th></th>\n",
       "      <th></th>\n",
       "    </tr>\n",
       "  </thead>\n",
       "  <tbody>\n",
       "    <tr>\n",
       "      <th rowspan=\"3\" valign=\"top\">store_name</th>\n",
       "      <th>44</th>\n",
       "      <td>0.922535</td>\n",
       "      <td>0.077465</td>\n",
       "    </tr>\n",
       "    <tr>\n",
       "      <th>45</th>\n",
       "      <td>1.000000</td>\n",
       "      <td>0.000000</td>\n",
       "    </tr>\n",
       "    <tr>\n",
       "      <th>46</th>\n",
       "      <td>0.913793</td>\n",
       "      <td>0.086207</td>\n",
       "    </tr>\n",
       "    <tr>\n",
       "      <th rowspan=\"2\" valign=\"top\">BUSINESS_UNIT</th>\n",
       "      <th>HEADOFFICE</th>\n",
       "      <td>0.287500</td>\n",
       "      <td>0.712500</td>\n",
       "    </tr>\n",
       "    <tr>\n",
       "      <th>STORES</th>\n",
       "      <td>0.795938</td>\n",
       "      <td>0.204062</td>\n",
       "    </tr>\n",
       "  </tbody>\n",
       "</table>\n",
       "</div>"
      ],
      "text/plain": [
       "                            ACTIVE  TERMINATED\n",
       "Feature       Value                           \n",
       "store_name    44          0.922535    0.077465\n",
       "              45          1.000000    0.000000\n",
       "              46          0.913793    0.086207\n",
       "BUSINESS_UNIT HEADOFFICE  0.287500    0.712500\n",
       "              STORES      0.795938    0.204062"
      ]
     },
     "execution_count": 40,
     "metadata": {},
     "output_type": "execute_result"
    }
   ],
   "source": [
    "df_pct.tail()"
   ]
  },
  {
   "cell_type": "markdown",
   "metadata": {},
   "source": [
    "We can access the information using the command loc and passing the name of the feature. In order to see the percentage by 'length_of_service' we must run the command below. Notice that the employee is more likely to terminate the contract before 1 year of service (probably due to seasonal employees such as interns) and after 13 years of service."
   ]
  },
  {
   "cell_type": "code",
   "execution_count": 41,
   "metadata": {},
   "outputs": [
    {
     "data": {
      "text/html": [
       "<div>\n",
       "<style scoped>\n",
       "    .dataframe tbody tr th:only-of-type {\n",
       "        vertical-align: middle;\n",
       "    }\n",
       "\n",
       "    .dataframe tbody tr th {\n",
       "        vertical-align: top;\n",
       "    }\n",
       "\n",
       "    .dataframe thead th {\n",
       "        text-align: right;\n",
       "    }\n",
       "</style>\n",
       "<table border=\"1\" class=\"dataframe\">\n",
       "  <thead>\n",
       "    <tr style=\"text-align: right;\">\n",
       "      <th></th>\n",
       "      <th>ACTIVE</th>\n",
       "      <th>TERMINATED</th>\n",
       "    </tr>\n",
       "    <tr>\n",
       "      <th>Value</th>\n",
       "      <th></th>\n",
       "      <th></th>\n",
       "    </tr>\n",
       "  </thead>\n",
       "  <tbody>\n",
       "    <tr>\n",
       "      <th>0</th>\n",
       "      <td>0.000000</td>\n",
       "      <td>1.000000</td>\n",
       "    </tr>\n",
       "    <tr>\n",
       "      <th>13</th>\n",
       "      <td>0.286558</td>\n",
       "      <td>0.713442</td>\n",
       "    </tr>\n",
       "    <tr>\n",
       "      <th>8</th>\n",
       "      <td>0.494145</td>\n",
       "      <td>0.505855</td>\n",
       "    </tr>\n",
       "    <tr>\n",
       "      <th>1</th>\n",
       "      <td>0.558442</td>\n",
       "      <td>0.441558</td>\n",
       "    </tr>\n",
       "    <tr>\n",
       "      <th>24</th>\n",
       "      <td>0.687151</td>\n",
       "      <td>0.312849</td>\n",
       "    </tr>\n",
       "  </tbody>\n",
       "</table>\n",
       "</div>"
      ],
      "text/plain": [
       "         ACTIVE  TERMINATED\n",
       "Value                      \n",
       "0      0.000000    1.000000\n",
       "13     0.286558    0.713442\n",
       "8      0.494145    0.505855\n",
       "1      0.558442    0.441558\n",
       "24     0.687151    0.312849"
      ]
     },
     "execution_count": 41,
     "metadata": {},
     "output_type": "execute_result"
    }
   ],
   "source": [
    "df_pct.loc['length_of_service'].sort_values('TERMINATED', ascending=False).head() # sorted and showed first 5 rows"
   ]
  },
  {
   "cell_type": "markdown",
   "metadata": {},
   "source": [
    "An easy way to visualize the number of active and terminated contracts per feature is through a count plot. Let us show how we do this for some individual features."
   ]
  },
  {
   "cell_type": "code",
   "execution_count": 42,
   "metadata": {
    "scrolled": false
   },
   "outputs": [
    {
     "data": {
      "image/png": "[encoded data removed]",
      "text/plain": [
       "<Figure size 1152x576 with 1 Axes>"
      ]
     },
     "metadata": {
      "needs_background": "light"
     },
     "output_type": "display_data"
    }
   ],
   "source": [
    "plt.figure(figsize=(16,8))\n",
    "ax = sns.countplot(data=data, x='age', hue='STATUS')\n",
    "\n",
    "\n",
    "ax.set_xticklabels(ax.get_xticklabels(), rotation=40, ha=\"right\")\n",
    "ax.set_title('NUMBER OF ACTIVE AND TERMINATED CONTRACTS PER VALUE')\n",
    "plt.tight_layout()"
   ]
  },
  {
   "cell_type": "markdown",
   "metadata": {},
   "source": [
    "Many employees in early twenties terminate the contract. Many employees terminate at the age of 60 probably due to possibility of retirement of by age, and pretty much everybody terminates at the age of 65 due to compulsory retirement.\n",
    "\n",
    "Let us check now the counting for length_of_sevice."
   ]
  },
  {
   "cell_type": "code",
   "execution_count": 43,
   "metadata": {
    "scrolled": false
   },
   "outputs": [
    {
     "data": {
      "image/png": "[encoded data removed]",
      "text/plain": [
       "<Figure size 1152x576 with 1 Axes>"
      ]
     },
     "metadata": {
      "needs_background": "light"
     },
     "output_type": "display_data"
    }
   ],
   "source": [
    "plt.figure(figsize=(16,8))\n",
    "ax = sns.countplot(data=data, x='length_of_service', hue='STATUS')\n",
    "\n",
    "\n",
    "ax.set_xticklabels(ax.get_xticklabels(), rotation=40, ha=\"right\")\n",
    "ax.set_title('NUMBER OF ACTIVE AND TERMINATED CONTRACTS PER VALUE')\n",
    "plt.tight_layout()"
   ]
  },
  {
   "cell_type": "markdown",
   "metadata": {},
   "source": [
    "After 8 years of service the numbers of active and terminated contracts are almost the same. After 13 years the number of terminated contracts is way above the number of active ones.\n",
    "\n",
    "Now we check the counting per city."
   ]
  },
  {
   "cell_type": "code",
   "execution_count": 44,
   "metadata": {
    "scrolled": false
   },
   "outputs": [
    {
     "data": {
      "image/png": "[encoded data removed]",
      "text/plain": [
       "<Figure size 1152x576 with 1 Axes>"
      ]
     },
     "metadata": {
      "needs_background": "light"
     },
     "output_type": "display_data"
    }
   ],
   "source": [
    "plt.figure(figsize=(16,8))\n",
    "ax = sns.countplot(data=data, x='city_name', hue='STATUS')\n",
    "\n",
    "\n",
    "ax.set_xticklabels(ax.get_xticklabels(), rotation=40, ha=\"right\")\n",
    "ax.set_title('NUMBER OF ACTIVE AND TERMINATED CONTRACTS PER VALUE')\n",
    "plt.tight_layout()"
   ]
  },
  {
   "cell_type": "markdown",
   "metadata": {},
   "source": [
    "We see that in some cities the seems to be no active contract. This is probably due to the permanent closing of a store.\n",
    "\n",
    "Let us check the gender of the majority of the employees."
   ]
  },
  {
   "cell_type": "code",
   "execution_count": 45,
   "metadata": {},
   "outputs": [
    {
     "name": "stdout",
     "output_type": "stream",
     "text": [
      "The number of people of the gender masculine is  3006 .\n"
     ]
    }
   ],
   "source": [
    "print(\"The number of people of the gender masculine is \", data[data['gender_short'] == 'M'].shape[0], \".\")"
   ]
  },
  {
   "cell_type": "code",
   "execution_count": 46,
   "metadata": {},
   "outputs": [
    {
     "name": "stdout",
     "output_type": "stream",
     "text": [
      "The number of people of the gender feminine is  3278 .\n"
     ]
    }
   ],
   "source": [
    "print(\"The number of people of the gender feminine is \", data[data['gender_short'] == 'F'].shape[0], \".\")"
   ]
  },
  {
   "cell_type": "markdown",
   "metadata": {},
   "source": [
    "We can repeat this analysis for all the features, if we wish. The idea was just to illustrate how important information, such as retirement or permanent closing of a store, might be obtained by visualizing this plot."
   ]
  },
  {
   "cell_type": "markdown",
   "metadata": {},
   "source": [
    "# 3. Feature Engineering\n",
    "\n",
    "In this section we will preprocess our data in order to use the tree algorithms. The only thing we have to do here is to transform the categorical variables into numbers so that the scikit learn library can interpret them. Before we do that, let us create a list containing the numerical and the categorical variables of our clean dataframe."
   ]
  },
  {
   "cell_type": "code",
   "execution_count": 47,
   "metadata": {},
   "outputs": [],
   "source": [
    "# makes a list of numerical variables\n",
    "new_num_vars = [col for col in data.columns if data[col].dtypes != 'O']"
   ]
  },
  {
   "cell_type": "code",
   "execution_count": 48,
   "metadata": {},
   "outputs": [
    {
     "data": {
      "text/plain": [
       "['age', 'length_of_service', 'store_name']"
      ]
     },
     "execution_count": 48,
     "metadata": {},
     "output_type": "execute_result"
    }
   ],
   "source": [
    "new_num_vars"
   ]
  },
  {
   "cell_type": "code",
   "execution_count": 49,
   "metadata": {},
   "outputs": [],
   "source": [
    "# creates a list with the categorical variables\n",
    "new_cat_vars = [col for col in data.columns if data[col].dtypes == 'O' and col != 'STATUS']"
   ]
  },
  {
   "cell_type": "code",
   "execution_count": 50,
   "metadata": {},
   "outputs": [
    {
     "data": {
      "text/plain": [
       "['city_name', 'department_name', 'job_title', 'gender_short', 'BUSINESS_UNIT']"
      ]
     },
     "execution_count": 50,
     "metadata": {},
     "output_type": "execute_result"
    }
   ],
   "source": [
    "new_cat_vars"
   ]
  },
  {
   "cell_type": "markdown",
   "metadata": {},
   "source": [
    "As we analyzed before, the numerical variables are all discrete. When we have discrete variables, we have to choose whether to treat them as numerical or as categorical. If we have a huge number of discrete variables, it is more appropriate to treat them as numerical. If otherwise, it makes more sense to treat them as categorical. We have to remember that pre-processing for numerical and categorical depends on the model we choose. Let us analyze one by one.\n",
    "\n",
    "The variable 'store_name' actually represents the name of a store. It does not make sense to treat is as numerical: We can not associate statistical measures with this variable! It's wrong to say the mean of the store name! So, 'store_name' must be treated as categorical.\n",
    "\n",
    "The variables 'age' and 'length_of_service' could be treated as numerical, and in fact, we have a fair number of unique values of them to do so. It is also possible to treat them as categorical due to their discreetnes. We will adopt the latter because this simplifies our work: All variables will be treated as categorical. When in doubt, the recommendation is to test both cases and stick to the one gives the desired result, be it robustness or performance."
   ]
  },
  {
   "cell_type": "code",
   "execution_count": 51,
   "metadata": {},
   "outputs": [],
   "source": [
    "# All variables are treated as categorical\n",
    "all_vars = new_num_vars + new_cat_vars"
   ]
  },
  {
   "cell_type": "markdown",
   "metadata": {},
   "source": [
    "In order to transform the categorical variables into numbers we use the following command"
   ]
  },
  {
   "cell_type": "code",
   "execution_count": 52,
   "metadata": {},
   "outputs": [],
   "source": [
    "df_final = pd.get_dummies(data, columns=all_vars, drop_first=True)"
   ]
  },
  {
   "cell_type": "code",
   "execution_count": 53,
   "metadata": {},
   "outputs": [
    {
     "data": {
      "text/plain": [
       "Index(['age', 'length_of_service', 'city_name', 'department_name', 'job_title',\n",
       "       'store_name', 'gender_short', 'STATUS', 'BUSINESS_UNIT'],\n",
       "      dtype='object')"
      ]
     },
     "execution_count": 53,
     "metadata": {},
     "output_type": "execute_result"
    }
   ],
   "source": [
    "data.columns"
   ]
  },
  {
   "cell_type": "markdown",
   "metadata": {},
   "source": [
    "When we add drop_first=True the command ignores one of the new columns. This occurs because one column that has n distinct value can be described by n-1 values. For instance, the columns with the features \"male\" and \"female\" can be converted in a single column with value 0 for \"female\" and value 1 for \"male\"."
   ]
  },
  {
   "cell_type": "markdown",
   "metadata": {},
   "source": [
    "Since we no longer have numerical variables, we do not treat them (normalize or standardize).\n",
    "\n",
    "Now, our data is ready to be used in the algorithm."
   ]
  },
  {
   "cell_type": "markdown",
   "metadata": {},
   "source": [
    "# 4. Tree Based Models\n",
    "\n",
    "In this section we will create our predictive tree based model. We will use the scikit learn library.\n",
    "\n",
    "**Split the data in training set and test set**\n",
    "\n",
    "We must first import the train_test_split function, then separate the data that will be used as feature, i.e. X, and as the variable we want to predict, i.e. y."
   ]
  },
  {
   "cell_type": "code",
   "execution_count": 54,
   "metadata": {},
   "outputs": [],
   "source": [
    "from sklearn.model_selection import train_test_split"
   ]
  },
  {
   "cell_type": "code",
   "execution_count": 55,
   "metadata": {},
   "outputs": [],
   "source": [
    "X = df_final.drop('STATUS', axis=1) # Selects the features\n",
    "y = df_final['STATUS'] # Selects the variable we want to predict\n",
    "\n",
    "X_train, X_test, y_train, y_test = train_test_split(X, y, test_size=0.2, random_state=1)"
   ]
  },
  {
   "cell_type": "markdown",
   "metadata": {},
   "source": [
    "**Modelling with a decision tree algorithm**\n",
    "\n",
    "Now we import the decision tree classifier, instantiate the object, and then we train (fit) the model passing X_train and y_train as inputs."
   ]
  },
  {
   "cell_type": "code",
   "execution_count": 56,
   "metadata": {},
   "outputs": [],
   "source": [
    "# Import decision tree classifier from scikit learn\n",
    "from sklearn.tree import DecisionTreeClassifier"
   ]
  },
  {
   "cell_type": "code",
   "execution_count": 57,
   "metadata": {},
   "outputs": [],
   "source": [
    "# instantiate the object DecisionTreeClassifier(). Fix random state to be 1\n",
    "dt = DecisionTreeClassifier(random_state=1)"
   ]
  },
  {
   "cell_type": "code",
   "execution_count": 58,
   "metadata": {
    "scrolled": true
   },
   "outputs": [
    {
     "data": {
      "text/plain": [
       "DecisionTreeClassifier(class_weight=None, criterion='gini', max_depth=None,\n",
       "            max_features=None, max_leaf_nodes=None,\n",
       "            min_impurity_decrease=0.0, min_impurity_split=None,\n",
       "            min_samples_leaf=1, min_samples_split=2,\n",
       "            min_weight_fraction_leaf=0.0, presort=False, random_state=1,\n",
       "            splitter='best')"
      ]
     },
     "execution_count": 58,
     "metadata": {},
     "output_type": "execute_result"
    }
   ],
   "source": [
    "# Train the model\n",
    "dt.fit(X_train, y_train)"
   ]
  },
  {
   "cell_type": "markdown",
   "metadata": {},
   "source": [
    "As the model is already trained, we now make predictions for the test set."
   ]
  },
  {
   "cell_type": "code",
   "execution_count": 59,
   "metadata": {},
   "outputs": [],
   "source": [
    "# Uses the trained model to make predictions for the test set\n",
    "dt_pred = dt.predict(X_test)"
   ]
  },
  {
   "cell_type": "markdown",
   "metadata": {},
   "source": [
    "Our predictions are given by dt_pred. We will make the comparison between the real and predicted values in the next section."
   ]
  },
  {
   "cell_type": "markdown",
   "metadata": {},
   "source": [
    "**Modelling with a random forest algorithm**\n",
    "\n",
    "Here, we follow the same line of reasoning as before."
   ]
  },
  {
   "cell_type": "code",
   "execution_count": 60,
   "metadata": {},
   "outputs": [],
   "source": [
    "# Import random forest classifier from scikit learn\n",
    "from sklearn.ensemble import RandomForestClassifier"
   ]
  },
  {
   "cell_type": "code",
   "execution_count": 61,
   "metadata": {},
   "outputs": [],
   "source": [
    "# instantiate the object RandomForestClassifier(). Fix random state to be 1\n",
    "rf = RandomForestClassifier(n_estimators=100, random_state=1)"
   ]
  },
  {
   "cell_type": "code",
   "execution_count": 62,
   "metadata": {},
   "outputs": [
    {
     "data": {
      "text/plain": [
       "(RandomForestClassifier(bootstrap=True, class_weight=None, criterion='gini',\n",
       "             max_depth=None, max_features='auto', max_leaf_nodes=None,\n",
       "             min_impurity_decrease=0.0, min_impurity_split=None,\n",
       "             min_samples_leaf=1, min_samples_split=2,\n",
       "             min_weight_fraction_leaf=0.0, n_estimators=100, n_jobs=None,\n",
       "             oob_score=False, random_state=1, verbose=0, warm_start=False),)"
      ]
     },
     "execution_count": 62,
     "metadata": {},
     "output_type": "execute_result"
    }
   ],
   "source": [
    "# Train the model\n",
    "rf.fit(X_train, y_train),"
   ]
  },
  {
   "cell_type": "code",
   "execution_count": 63,
   "metadata": {},
   "outputs": [],
   "source": [
    "# Uses the trained model to make predictions for the test set\n",
    "rf_pred = rf.predict(X_test)"
   ]
  },
  {
   "cell_type": "markdown",
   "metadata": {},
   "source": [
    "**Performance metrics and discussion for decision trees**\n",
    "\n",
    "As we discussed before, the dataset is not balanced, so it does not make sense to use accuracy to evaluate the performance of these classification algorithms. Instead, we must use precision, recall, and F1-score. We will also display the confusion matrix and discuss the results.\n",
    "\n",
    "**Import KPI's**"
   ]
  },
  {
   "cell_type": "code",
   "execution_count": 64,
   "metadata": {},
   "outputs": [],
   "source": [
    "from sklearn.metrics import classification_report, confusion_matrix"
   ]
  },
  {
   "cell_type": "markdown",
   "metadata": {},
   "source": [
    "**KPI's for the decision tree**"
   ]
  },
  {
   "cell_type": "code",
   "execution_count": 65,
   "metadata": {
    "scrolled": true
   },
   "outputs": [
    {
     "name": "stdout",
     "output_type": "stream",
     "text": [
      "              precision    recall  f1-score   support\n",
      "\n",
      "      ACTIVE       0.97      0.98      0.98       983\n",
      "  TERMINATED       0.94      0.90      0.92       274\n",
      "\n",
      "   micro avg       0.97      0.97      0.97      1257\n",
      "   macro avg       0.96      0.94      0.95      1257\n",
      "weighted avg       0.97      0.97      0.97      1257\n",
      "\n"
     ]
    }
   ],
   "source": [
    "# Creates a report with the performance metrics for our decision tree model\n",
    "print(classification_report(y_test, dt_pred)) "
   ]
  },
  {
   "cell_type": "code",
   "execution_count": 66,
   "metadata": {},
   "outputs": [
    {
     "name": "stdout",
     "output_type": "stream",
     "text": [
      "[[968  15]\n",
      " [ 28 246]]\n"
     ]
    }
   ],
   "source": [
    "print(confusion_matrix(y_test, dt_pred))"
   ]
  },
  {
   "cell_type": "markdown",
   "metadata": {},
   "source": [
    "Notice below how we infer that 'ACTIVE' is what we call POSITIVE and 'TERMINATED' is what we call NEGATIVE."
   ]
  },
  {
   "cell_type": "code",
   "execution_count": 67,
   "metadata": {},
   "outputs": [
    {
     "data": {
      "text/plain": [
       "array(['ACTIVE', 'ACTIVE', 'ACTIVE', 'ACTIVE', 'TERMINATED', 'TERMINATED',\n",
       "       'ACTIVE', 'ACTIVE', 'ACTIVE', 'TERMINATED'], dtype=object)"
      ]
     },
     "execution_count": 67,
     "metadata": {},
     "output_type": "execute_result"
    }
   ],
   "source": [
    "y_test.values[:10]"
   ]
  },
  {
   "cell_type": "code",
   "execution_count": 68,
   "metadata": {},
   "outputs": [
    {
     "data": {
      "text/plain": [
       "array(['ACTIVE', 'ACTIVE', 'ACTIVE', 'ACTIVE', 'TERMINATED', 'TERMINATED',\n",
       "       'ACTIVE', 'ACTIVE', 'ACTIVE', 'ACTIVE'], dtype=object)"
      ]
     },
     "execution_count": 68,
     "metadata": {},
     "output_type": "execute_result"
    }
   ],
   "source": [
    "dt_pred[:10]"
   ]
  },
  {
   "cell_type": "markdown",
   "metadata": {},
   "source": [
    "In order to discuss the results we must review what the confusion matrix is. The confusion matrix is a 2x2 matrix whose element 1x1 represents the number of true positives, TP, the element 1x2 is the number of false negative, FN, the element 2x1 is the number of false positives, FP, and the element 2x2 is the number of true negatives. Looking at the matrix above we can infer that TP=967, FN=16, FP=17, and TN=257. The formulas for precision and recall are given below and if we replace the numbers we will get\n",
    "\n",
    "$$\n",
    "\\text{Precision} = \\frac{TP}{TP+FP} = 0.98, \\;\\; \\text{Recall} = \\frac{TP}{TP+FN} = 0.98.\n",
    "$$\n",
    "\n",
    "The performance is considered very high. We almost get 100% right for the test set, and this indicates that the whole process we described seems to be correct."
   ]
  },
  {
   "cell_type": "markdown",
   "metadata": {},
   "source": [
    "**KPI's for the random forest**"
   ]
  },
  {
   "cell_type": "code",
   "execution_count": 69,
   "metadata": {},
   "outputs": [
    {
     "name": "stdout",
     "output_type": "stream",
     "text": [
      "              precision    recall  f1-score   support\n",
      "\n",
      "      ACTIVE       0.96      0.99      0.97       983\n",
      "  TERMINATED       0.94      0.84      0.89       274\n",
      "\n",
      "   micro avg       0.95      0.95      0.95      1257\n",
      "   macro avg       0.95      0.91      0.93      1257\n",
      "weighted avg       0.95      0.95      0.95      1257\n",
      "\n"
     ]
    }
   ],
   "source": [
    "# Creates a report with the performance metrics for our random forest model\n",
    "print(classification_report(y_test, rf_pred)) "
   ]
  },
  {
   "cell_type": "code",
   "execution_count": 70,
   "metadata": {},
   "outputs": [
    {
     "name": "stdout",
     "output_type": "stream",
     "text": [
      "[[969  14]\n",
      " [ 43 231]]\n"
     ]
    }
   ],
   "source": [
    "print(confusion_matrix(y_test, rf_pred))"
   ]
  },
  {
   "cell_type": "markdown",
   "metadata": {},
   "source": [
    "By analyzing the confusion matrix we can see that the random forest algorithm has a performance a little worse if compared to the decision tree algorithm: It misclassified more negatives. However, this is a great model and shows that the whole process we described seems to be correct."
   ]
  },
  {
   "cell_type": "markdown",
   "metadata": {},
   "source": [
    "# 5. Logistic Regression\n",
    "\n",
    "In this section we will use the logistic regression algorithm. The splitting of the data will be the same as in the previous section."
   ]
  },
  {
   "cell_type": "code",
   "execution_count": 71,
   "metadata": {},
   "outputs": [],
   "source": [
    "# Import logistic regression from sklearn\n",
    "from sklearn.linear_model import LogisticRegression"
   ]
  },
  {
   "cell_type": "code",
   "execution_count": 72,
   "metadata": {},
   "outputs": [],
   "source": [
    "# instantiate the object LogisticRegression(). Fix random state to be 1\n",
    "logistic = LogisticRegression(solver='lbfgs', random_state=1)"
   ]
  },
  {
   "cell_type": "code",
   "execution_count": 73,
   "metadata": {},
   "outputs": [
    {
     "data": {
      "text/plain": [
       "(LogisticRegression(C=1.0, class_weight=None, dual=False, fit_intercept=True,\n",
       "           intercept_scaling=1, max_iter=100, multi_class='warn',\n",
       "           n_jobs=None, penalty='l2', random_state=1, solver='lbfgs',\n",
       "           tol=0.0001, verbose=0, warm_start=False),)"
      ]
     },
     "execution_count": 73,
     "metadata": {},
     "output_type": "execute_result"
    }
   ],
   "source": [
    "# train the model\n",
    "logistic.fit(X_train, y_train),"
   ]
  },
  {
   "cell_type": "code",
   "execution_count": 74,
   "metadata": {},
   "outputs": [],
   "source": [
    "# Use the trained model to make predictions for the test set\n",
    "logistic_pred = logistic.predict(X_test)"
   ]
  },
  {
   "cell_type": "markdown",
   "metadata": {},
   "source": [
    "**KPI's for the logistic regression**"
   ]
  },
  {
   "cell_type": "code",
   "execution_count": 75,
   "metadata": {},
   "outputs": [
    {
     "name": "stdout",
     "output_type": "stream",
     "text": [
      "              precision    recall  f1-score   support\n",
      "\n",
      "      ACTIVE       0.96      0.98      0.97       983\n",
      "  TERMINATED       0.94      0.85      0.89       274\n",
      "\n",
      "   micro avg       0.95      0.95      0.95      1257\n",
      "   macro avg       0.95      0.92      0.93      1257\n",
      "weighted avg       0.95      0.95      0.95      1257\n",
      "\n"
     ]
    }
   ],
   "source": [
    "# Creates a report with the performance metrics for our logistic regression model\n",
    "print(classification_report(y_test, logistic_pred))"
   ]
  },
  {
   "cell_type": "code",
   "execution_count": 76,
   "metadata": {},
   "outputs": [
    {
     "name": "stdout",
     "output_type": "stream",
     "text": [
      "[[968  15]\n",
      " [ 42 232]]\n"
     ]
    }
   ],
   "source": [
    "print(confusion_matrix(y_test, logistic_pred))"
   ]
  },
  {
   "cell_type": "markdown",
   "metadata": {},
   "source": [
    "We see that logistic regression has almost the same performance as the random forest model."
   ]
  },
  {
   "cell_type": "markdown",
   "metadata": {},
   "source": [
    "**Feature Importance for Logistic Regression**\n",
    "\n",
    "Now, we check which features are more relevant for the logistic regression model. The coefficients with the largest absolute values will have bigger impact over the model."
   ]
  },
  {
   "cell_type": "code",
   "execution_count": 77,
   "metadata": {},
   "outputs": [],
   "source": [
    "# Absolute values of the logistic regression coefficients\n",
    "coeff = np.abs(logistic.coef_[0])"
   ]
  },
  {
   "cell_type": "code",
   "execution_count": 78,
   "metadata": {},
   "outputs": [
    {
     "data": {
      "text/plain": [
       "array([3.40393111, 0.17274787, 0.57407588, 0.44856581, 1.0888035 ,\n",
       "       0.54351217, 0.61548349, 1.17628482, 1.42070555, 0.25629971])"
      ]
     },
     "execution_count": 78,
     "metadata": {},
     "output_type": "execute_result"
    }
   ],
   "source": [
    "# See ten first\n",
    "coeff[:10]"
   ]
  },
  {
   "cell_type": "code",
   "execution_count": 79,
   "metadata": {},
   "outputs": [
    {
     "data": {
      "text/plain": [
       "223"
      ]
     },
     "execution_count": 79,
     "metadata": {},
     "output_type": "execute_result"
    }
   ],
   "source": [
    "# See the number of coefficients\n",
    "len(coeff)"
   ]
  },
  {
   "cell_type": "code",
   "execution_count": 80,
   "metadata": {},
   "outputs": [
    {
     "data": {
      "text/plain": [
       "223"
      ]
     },
     "execution_count": 80,
     "metadata": {},
     "output_type": "execute_result"
    }
   ],
   "source": [
    "# Check that the number matches with the number of columns of X\n",
    "X.shape[1]"
   ]
  },
  {
   "cell_type": "markdown",
   "metadata": {},
   "source": [
    "The code below prints the most important features and their values as well. The most important feature is \"age\" with value 65, then \"length_of_service\" with value 22, and so on."
   ]
  },
  {
   "cell_type": "code",
   "execution_count": 81,
   "metadata": {},
   "outputs": [
    {
     "name": "stdout",
     "output_type": "stream",
     "text": [
      "0: 5.8780304276228845, age_65\n",
      "1: 4.858751439235255, length_of_service_22\n",
      "2: 4.444697473937892, age_60\n",
      "3: 3.403931105435885, age_20\n",
      "4: 3.2229418533448992, length_of_service_1\n",
      "5: 2.490809373765714, age_30\n",
      "6: 2.485628849245106, store_name_20\n",
      "7: 2.485628849245106, city_name_New Westminister\n",
      "8: 2.4183483464953275, store_name_11\n",
      "9: 2.4183483464953275, city_name_Fort Nelson\n",
      "10: 2.3687072826116475, store_name_13\n",
      "11: 2.3687072826116475, city_name_Grand Forks\n",
      "12: 2.2334290540297013, store_name_9\n",
      "13: 2.2334290540297013, city_name_Dawson Creek\n",
      "14: 2.166476543467066, store_name_14\n",
      "15: 2.166476543467066, city_name_Haney\n",
      "16: 1.8475367192534207, length_of_service_12\n",
      "17: 1.827406505090265, length_of_service_23\n",
      "18: 1.781842943529936, length_of_service_9\n",
      "19: 1.7725567711459902, age_37\n",
      "20: 1.6765846864698364, length_of_service_6\n",
      "21: 1.4814008937176875, length_of_service_11\n",
      "22: 1.4507596751803142, age_51\n",
      "23: 1.4217592041053753, age_34\n",
      "24: 1.420705545760736, age_28\n",
      "25: 1.3762543424720224, length_of_service_25\n",
      "26: 1.3546600785754035, length_of_service_16\n",
      "27: 1.3539469344503465, length_of_service_21\n",
      "28: 1.3535354905703703, store_name_7\n",
      "29: 1.3535354905703703, city_name_Cortes Island\n",
      "30: 1.3177649461950196, length_of_service_18\n",
      "31: 1.265197419975197, length_of_service_24\n",
      "32: 1.2236295284067809, length_of_service_5\n",
      "33: 1.215461064813236, length_of_service_20\n",
      "34: 1.1846914016418508, age_33\n",
      "35: 1.1780435621545522, length_of_service_8\n",
      "36: 1.1762848154961405, age_27\n",
      "37: 1.1677048164499992, age_39\n",
      "38: 1.1263316302295363, length_of_service_19\n",
      "39: 1.088803501726576, age_24\n",
      "40: 1.0739656036614202, age_57\n",
      "41: 1.0697949655902659, age_64\n",
      "42: 1.0439759715135581, age_50\n",
      "43: 1.0329277954268712, age_42\n",
      "44: 1.0300278425911684, age_38\n",
      "45: 1.0289347389813537, age_43\n",
      "46: 1.0099527629799534, age_35\n",
      "47: 0.9892881470612201, age_36\n",
      "48: 0.9258826013453669, department_name_Executive\n",
      "49: 0.9077269567512192, store_name_2\n",
      "50: 0.9077269567512192, city_name_Aldergrove\n",
      "51: 0.9054667839115541, job_title_Shelf Stocker\n",
      "52: 0.8896778483905016, age_46\n",
      "53: 0.8786464621647222, store_name_35\n",
      "54: 0.8719157214675269, length_of_service_3\n",
      "55: 0.8324518473316853, job_title_Store Manager\n",
      "56: 0.8324518473316853, department_name_Store Management\n",
      "57: 0.7981124431415706, age_63\n",
      "58: 0.7734641339412396, store_name_27\n",
      "59: 0.7734641339412396, city_name_Princeton\n",
      "60: 0.7490794889426768, age_41\n",
      "61: 0.7272074611255468, length_of_service_7\n",
      "62: 0.7238264610476157, store_name_10\n",
      "63: 0.7238264610476157, city_name_Dease Lake\n",
      "64: 0.7195540587907574, length_of_service_10\n",
      "65: 0.714277674412086, store_name_46\n",
      "66: 0.7114227731476906, age_32\n",
      "67: 0.6989781993575958, job_title_CEO\n",
      "68: 0.6847128608705008, job_title_Processed Foods Manager\n",
      "69: 0.6734384025010782, age_45\n",
      "70: 0.6658139006786372, age_48\n",
      "71: 0.6534284603600572, store_name_5\n",
      "72: 0.6534284603600572, city_name_Burnaby\n",
      "73: 0.6493283724809861, age_40\n",
      "74: 0.6443950196615827, store_name_4\n",
      "75: 0.6443950196615827, city_name_Blue River\n",
      "76: 0.6291350535663405, job_title_Baker\n",
      "77: 0.6262205642454431, job_title_Meats Manager\n",
      "78: 0.6154834856290281, age_26\n",
      "79: 0.5889823318328957, age_44\n",
      "80: 0.5797959325723719, store_name_29\n",
      "81: 0.5797959325723719, city_name_Richmond\n",
      "82: 0.5744680951227438, store_name_44\n",
      "83: 0.574075883577023, age_22\n",
      "84: 0.5513574112182714, store_name_41\n",
      "85: 0.5485246881721566, store_name_39\n",
      "86: 0.5485246881721566, city_name_White Rock\n",
      "87: 0.5438893188728543, city_name_Vancouver\n",
      "88: 0.5435121652863257, age_25\n",
      "89: 0.5423033705182212, age_62\n",
      "90: 0.5093374680420762, length_of_service_4\n",
      "91: 0.507086122802544, store_name_37\n",
      "92: 0.491689582456964, store_name_26\n",
      "93: 0.491689582456964, city_name_Prince George\n",
      "94: 0.4845796181813694, store_name_8\n",
      "95: 0.4845796181813694, city_name_Cranbrook\n",
      "96: 0.4738250524340228, job_title_Meat Cutter\n",
      "97: 0.4737483975327955, age_47\n",
      "98: 0.47301833478805355, job_title_Bakery Manager\n",
      "99: 0.46849277321861527, job_title_Produce Manager\n",
      "100: 0.46695717417024674, store_name_36\n",
      "101: 0.46695717417024674, city_name_Vernon\n",
      "102: 0.4485658062361088, age_23\n",
      "103: 0.4440302916139038, length_of_service_13\n",
      "104: 0.43804772315028406, job_title_Produce Clerk\n",
      "105: 0.42028839352594505, job_title_Cashier\n",
      "106: 0.41674844670523276, store_name_24\n",
      "107: 0.41674844670523276, city_name_Pitt Meadows\n",
      "108: 0.41489819086886304, length_of_service_15\n",
      "109: 0.4145036830869464, store_name_21\n",
      "110: 0.4145036830869464, city_name_New Westminster\n",
      "111: 0.41404279124189214, store_name_31\n",
      "112: 0.41404279124189214, city_name_Surrey\n",
      "113: 0.40713999754008545, store_name_6\n",
      "114: 0.40713999754008545, city_name_Chilliwack\n",
      "115: 0.399848920890425, length_of_service_2\n",
      "116: 0.38881397936462564, store_name_18\n",
      "117: 0.38881397936462564, city_name_Nanaimo\n",
      "118: 0.38261272727007306, store_name_32\n",
      "119: 0.38261272727007306, city_name_Terrace\n",
      "120: 0.3689758084797322, store_name_43\n",
      "121: 0.36870798662700804, store_name_28\n",
      "122: 0.36870798662700804, city_name_Quesnel\n",
      "123: 0.36202345098900446, store_name_38\n",
      "124: 0.36202345098900446, city_name_West Vancouver\n",
      "125: 0.35866619235395625, department_name_Customer Service\n",
      "126: 0.3470994320254616, job_title_Dairy Person\n",
      "127: 0.3470994320254616, department_name_Dairy\n",
      "128: 0.3432493889590429, store_name_34\n",
      "129: 0.3432493889590429, city_name_Valemount\n",
      "130: 0.3407546668281781, store_name_19\n",
      "131: 0.3407546668281781, city_name_Nelson\n",
      "132: 0.3350586473387517, age_55\n",
      "133: 0.3334466284324014, age_58\n",
      "134: 0.32121304373340964, store_name_17\n",
      "135: 0.32121304373340964, city_name_Langley\n",
      "136: 0.31298699008852526, store_name_33\n",
      "137: 0.31298699008852526, city_name_Trail\n",
      "138: 0.2562997082238946, age_29\n",
      "139: 0.25595352181303777, age_31\n",
      "140: 0.25180602089626114, store_name_15\n",
      "141: 0.25180602089626114, city_name_Kamloops\n",
      "142: 0.24102000339555366, age_52\n",
      "143: 0.23866014226628465, store_name_30\n",
      "144: 0.23866014226628465, city_name_Squamish\n",
      "145: 0.22075392304105385, department_name_Processed Foods\n",
      "146: 0.21563817205193123, age_53\n",
      "147: 0.20719155160954197, city_name_Victoria\n",
      "148: 0.20275478154685736, store_name_3\n",
      "149: 0.20275478154685736, city_name_Bella Bella\n",
      "150: 0.19439622638259726, age_59\n",
      "151: 0.17736025194411523, job_title_Systems Analyst\n",
      "152: 0.17736025194411523, department_name_Information Technology\n",
      "153: 0.17333086336942727, department_name_HR Technology\n",
      "154: 0.17274786621928703, age_21\n",
      "155: 0.17220212520919406, department_name_Labor Relations\n",
      "156: 0.17220212520919378, department_name_Training\n",
      "157: 0.16338736704859466, store_name_40\n",
      "158: 0.16338736704859466, city_name_Williams Lake\n",
      "159: 0.15858286949412703, store_name_42\n",
      "160: 0.157869611273169, job_title_HRIS Analyst\n",
      "161: 0.15611671877828706, department_name_Bakery\n",
      "162: 0.15239551181142016, department_name_Meats\n",
      "163: 0.13756703867368805, store_name_23\n",
      "164: 0.13756703867368805, city_name_Ocean Falls\n",
      "165: 0.13127827659002125, job_title_Recruiter\n",
      "166: 0.12657270911108176, length_of_service_14\n",
      "167: 0.12185282988155091, job_title_Trainer\n",
      "168: 0.12185282988155091, job_title_Labor Relations Analyst\n",
      "169: 0.12059333426747018, length_of_service_17\n",
      "170: 0.11483546577725828, job_title_Corporate Lawyer\n",
      "171: 0.11483546577725828, department_name_Legal\n",
      "172: 0.11284611010930602, department_name_Employee Records\n",
      "173: 0.10918041983933884, age_56\n",
      "174: 0.10630609015647205, store_name_16\n",
      "175: 0.10630609015647205, city_name_Kelowna\n",
      "176: 0.10463355676130845, department_name_Compensation\n",
      "177: 0.09644552762332631, job_title_Benefits Admin\n",
      "178: 0.090130135259801, job_title_Director, Recruitment\n",
      "179: 0.08981567719399318, age_61\n",
      "180: 0.08940253865566324, store_name_22\n",
      "181: 0.08940253865566324, city_name_North Vancouver\n",
      "182: 0.0863173357109582, store_name_45\n",
      "183: 0.07291611100394715, age_49\n",
      "184: 0.07206303505003367, age_54\n",
      "185: 0.06734385698733708, BUSINESS_UNIT_STORES\n",
      "186: 0.06626838667734121, department_name_Investment\n",
      "187: 0.06162220117198904, job_title_Customer Service Manager\n",
      "188: 0.06124566900620793, job_title_Auditor\n",
      "189: 0.06124566900620793, department_name_Audit\n",
      "190: 0.055393668340390834, job_title_Director, Investments\n",
      "191: 0.053500911574300834, job_title_Director, Compensation\n",
      "192: 0.05113264518700765, job_title_Compensation Analyst\n",
      "193: 0.05034929532764312, job_title_Director, Labor Relations\n",
      "194: 0.05034929532764306, job_title_Director, Training\n",
      "195: 0.043214794702878534, gender_short_M\n",
      "196: 0.04114814133022036, department_name_Recruitment\n",
      "197: 0.04059776151535027, job_title_Exec Assistant, Finance\n",
      "198: 0.039905660181635855, job_title_Legal Counsel\n",
      "199: 0.03990566018163569, job_title_Exec Assistant, Human Resources\n",
      "200: 0.03905837466587084, store_name_12\n",
      "201: 0.03905837466587084, city_name_Fort St John\n",
      "202: 0.03644691602327142, job_title_VP Human Resources\n",
      "203: 0.03504618527717295, job_title_CHief Information Officer\n",
      "204: 0.0344300630684293, department_name_Accounts Receiveable\n",
      "205: 0.03054323116129616, store_name_25\n",
      "206: 0.03054323116129616, city_name_Port Coquitlam\n",
      "207: 0.030445050068330655, department_name_Produce\n",
      "208: 0.028718165114282542, job_title_Accounts Payable Clerk\n",
      "209: 0.018458857636513466, job_title_Director, Accounts Payable\n",
      "210: 0.018309067736680156, job_title_Director, Accounting\n",
      "211: 0.017694771628743756, job_title_Exec Assistant, Legal Counsel\n",
      "212: 0.017675651759274512, job_title_Director, Accounts Receivable\n",
      "213: 0.01730744717996183, job_title_VP Stores\n",
      "214: 0.01675441130915477, job_title_Accounts Receiveable Clerk\n",
      "215: 0.01640058248597982, job_title_Director, Employee Records\n",
      "216: 0.015461252096258312, job_title_Director, HR Technology\n",
      "217: 0.010874718336950532, job_title_Investment Analyst\n",
      "218: 0.010259307477769083, department_name_Accounts Payable\n",
      "219: 0.0, job_title_VP Finance\n",
      "220: 0.0, job_title_Exec Assistant, VP Stores\n",
      "221: 0.0, job_title_Director, Audit\n",
      "222: 0.0, job_title_Dairy Manager\n"
     ]
    }
   ],
   "source": [
    "for i, (a,b) in enumerate(sorted(list(zip(coeff, X.columns)), reverse=True)):\n",
    "    print('{0}: {1}, {2}'.format(i, a, b))"
   ]
  },
  {
   "cell_type": "markdown",
   "metadata": {},
   "source": [
    "# 6. Optimization\n",
    "\n",
    "The decision tree, random forest, and logistic regression models contain hyperparameters. Different values of these hyperparameters lead to different results and a tunning process is required in order to improve the performance. We must always pay close attention to the trade-off between bias and variance: Too much hyperparameter tunning might lead to overfitting. The logistic regression might also be optimized in order to obtain a model whose predictions contain too many false negatives for instance. It is the data scientist that must analyse the dangers associated with these wrong predictions. In cases of cancer prediction or investments of huge amounts of money the models must be optimized in order to avoid false negatives. Sometimes, a highly tunned model is capable of making great predictions but its performance changes after a short period of time. When this happens the model must be tunned again. A **robust** model has has a performance that is more stable along the time. We emphasize that there is no trade-off between performance and robustness. A model can have great performance and still be very robust. We will not go through the optimization process here, since we already acquired a performance great enough for predicting which employee will leave the company."
   ]
  },
  {
   "cell_type": "markdown",
   "metadata": {},
   "source": [
    "# 7. Predictions for the Evaluation Set and Final Results\n",
    "\n",
    "In order to make the predictions for the evaluation set, we must retrain the whole model with all the dataset we used in the previous section. Then we make predictions for the evaluation set. As the model that had the best performance was the decision tree, we are going to use only this model to make predictions for our evaluation set.\n",
    "\n",
    "The evaluation set does not contain null values, and it does not contain duplicate values for the \"Emplyee_ID\" feature. So, we just need to preprocess it in order to use it in our model. But notice that we preprocessed our previous dataset containing the feature \"Status\", and this generated several columns after using the function pd.get_dummies. As this feature is not present in the evaluation set, we need to preprocess our previous data again but excluding the \"STATUS\" feature. This will assure that our training data and evaluation data have the same dimensions, and therefore we can use the scikit learn classifiers.\n",
    "\n",
    "**Feature enginnering**\n",
    "\n",
    "Make sure the training and evaluation data contain the same columns before preprocessing."
   ]
  },
  {
   "cell_type": "code",
   "execution_count": 82,
   "metadata": {},
   "outputs": [],
   "source": [
    "data_new = data.drop('STATUS', axis=1)"
   ]
  },
  {
   "cell_type": "code",
   "execution_count": 83,
   "metadata": {},
   "outputs": [
    {
     "data": {
      "text/plain": [
       "Index(['age', 'length_of_service', 'city_name', 'department_name', 'job_title',\n",
       "       'store_name', 'gender_short', 'BUSINESS_UNIT'],\n",
       "      dtype='object')"
      ]
     },
     "execution_count": 83,
     "metadata": {},
     "output_type": "execute_result"
    }
   ],
   "source": [
    "data_new.columns"
   ]
  },
  {
   "cell_type": "code",
   "execution_count": 84,
   "metadata": {
    "scrolled": true
   },
   "outputs": [
    {
     "data": {
      "text/plain": [
       "Index(['age', 'length_of_service', 'city_name', 'department_name', 'job_title',\n",
       "       'store_name', 'gender_short', 'BUSINESS_UNIT'],\n",
       "      dtype='object')"
      ]
     },
     "execution_count": 84,
     "metadata": {},
     "output_type": "execute_result"
    }
   ],
   "source": [
    "df_eval_set.columns"
   ]
  },
  {
   "cell_type": "markdown",
   "metadata": {},
   "source": [
    "As they now contain the same columns, we must concatenate both dataframes before applying the function get_dummies."
   ]
  },
  {
   "cell_type": "code",
   "execution_count": 85,
   "metadata": {},
   "outputs": [],
   "source": [
    "df_concat = pd.concat([data_new , df_eval_set]).reset_index(drop=True)"
   ]
  },
  {
   "cell_type": "code",
   "execution_count": 86,
   "metadata": {},
   "outputs": [
    {
     "data": {
      "text/html": [
       "<div>\n",
       "<style scoped>\n",
       "    .dataframe tbody tr th:only-of-type {\n",
       "        vertical-align: middle;\n",
       "    }\n",
       "\n",
       "    .dataframe tbody tr th {\n",
       "        vertical-align: top;\n",
       "    }\n",
       "\n",
       "    .dataframe thead th {\n",
       "        text-align: right;\n",
       "    }\n",
       "</style>\n",
       "<table border=\"1\" class=\"dataframe\">\n",
       "  <thead>\n",
       "    <tr style=\"text-align: right;\">\n",
       "      <th></th>\n",
       "      <th>age</th>\n",
       "      <th>length_of_service</th>\n",
       "      <th>city_name</th>\n",
       "      <th>department_name</th>\n",
       "      <th>job_title</th>\n",
       "      <th>store_name</th>\n",
       "      <th>gender_short</th>\n",
       "      <th>BUSINESS_UNIT</th>\n",
       "    </tr>\n",
       "  </thead>\n",
       "  <tbody>\n",
       "    <tr>\n",
       "      <th>0</th>\n",
       "      <td>60</td>\n",
       "      <td>25</td>\n",
       "      <td>Vancouver</td>\n",
       "      <td>Executive</td>\n",
       "      <td>CEO</td>\n",
       "      <td>35</td>\n",
       "      <td>M</td>\n",
       "      <td>HEADOFFICE</td>\n",
       "    </tr>\n",
       "    <tr>\n",
       "      <th>1</th>\n",
       "      <td>57</td>\n",
       "      <td>25</td>\n",
       "      <td>Vancouver</td>\n",
       "      <td>Executive</td>\n",
       "      <td>VP Stores</td>\n",
       "      <td>35</td>\n",
       "      <td>F</td>\n",
       "      <td>HEADOFFICE</td>\n",
       "    </tr>\n",
       "    <tr>\n",
       "      <th>2</th>\n",
       "      <td>59</td>\n",
       "      <td>25</td>\n",
       "      <td>Vancouver</td>\n",
       "      <td>Executive</td>\n",
       "      <td>Legal Counsel</td>\n",
       "      <td>35</td>\n",
       "      <td>F</td>\n",
       "      <td>HEADOFFICE</td>\n",
       "    </tr>\n",
       "    <tr>\n",
       "      <th>3</th>\n",
       "      <td>55</td>\n",
       "      <td>25</td>\n",
       "      <td>Vancouver</td>\n",
       "      <td>Executive</td>\n",
       "      <td>VP Human Resources</td>\n",
       "      <td>35</td>\n",
       "      <td>M</td>\n",
       "      <td>HEADOFFICE</td>\n",
       "    </tr>\n",
       "    <tr>\n",
       "      <th>4</th>\n",
       "      <td>56</td>\n",
       "      <td>25</td>\n",
       "      <td>Vancouver</td>\n",
       "      <td>Executive</td>\n",
       "      <td>VP Finance</td>\n",
       "      <td>35</td>\n",
       "      <td>M</td>\n",
       "      <td>HEADOFFICE</td>\n",
       "    </tr>\n",
       "  </tbody>\n",
       "</table>\n",
       "</div>"
      ],
      "text/plain": [
       "   age  length_of_service  city_name department_name           job_title  \\\n",
       "0   60                 25  Vancouver       Executive                 CEO   \n",
       "1   57                 25  Vancouver       Executive           VP Stores   \n",
       "2   59                 25  Vancouver       Executive       Legal Counsel   \n",
       "3   55                 25  Vancouver       Executive  VP Human Resources   \n",
       "4   56                 25  Vancouver       Executive          VP Finance   \n",
       "\n",
       "   store_name gender_short BUSINESS_UNIT  \n",
       "0          35            M    HEADOFFICE  \n",
       "1          35            F    HEADOFFICE  \n",
       "2          35            F    HEADOFFICE  \n",
       "3          35            M    HEADOFFICE  \n",
       "4          35            M    HEADOFFICE  "
      ]
     },
     "execution_count": 86,
     "metadata": {},
     "output_type": "execute_result"
    }
   ],
   "source": [
    "df_concat.head()"
   ]
  },
  {
   "cell_type": "markdown",
   "metadata": {},
   "source": [
    "Now, preprocess the data."
   ]
  },
  {
   "cell_type": "code",
   "execution_count": 87,
   "metadata": {},
   "outputs": [],
   "source": [
    "df_final_2 = pd.get_dummies(df_concat, columns=new_cat_vars, drop_first=True)"
   ]
  },
  {
   "cell_type": "code",
   "execution_count": 88,
   "metadata": {},
   "outputs": [
    {
     "data": {
      "text/plain": [
       "(11245, 110)"
      ]
     },
     "execution_count": 88,
     "metadata": {},
     "output_type": "execute_result"
    }
   ],
   "source": [
    "df_final_2.shape"
   ]
  },
  {
   "cell_type": "markdown",
   "metadata": {},
   "source": [
    "**Train and test split**\n",
    "\n",
    "Notice that the the training data ends at the index data_new.shape[0] (non-inclusive), where the evaluation data starts."
   ]
  },
  {
   "cell_type": "code",
   "execution_count": 89,
   "metadata": {},
   "outputs": [],
   "source": [
    "X_train_new = df_final_2.iloc[:data_new.shape[0]]\n",
    "y_train_new = data['STATUS']\n",
    "X_test_new = df_final_2.iloc[data_new.shape[0]:]"
   ]
  },
  {
   "cell_type": "markdown",
   "metadata": {},
   "source": [
    "**Decision tree for the whole dataset**"
   ]
  },
  {
   "cell_type": "code",
   "execution_count": 90,
   "metadata": {},
   "outputs": [],
   "source": [
    "# instantiate the object DecisionTreeClassifier(). Fix random state to be 1\n",
    "dt_new = DecisionTreeClassifier(random_state=1)"
   ]
  },
  {
   "cell_type": "code",
   "execution_count": 91,
   "metadata": {},
   "outputs": [
    {
     "data": {
      "text/plain": [
       "DecisionTreeClassifier(class_weight=None, criterion='gini', max_depth=None,\n",
       "            max_features=None, max_leaf_nodes=None,\n",
       "            min_impurity_decrease=0.0, min_impurity_split=None,\n",
       "            min_samples_leaf=1, min_samples_split=2,\n",
       "            min_weight_fraction_leaf=0.0, presort=False, random_state=1,\n",
       "            splitter='best')"
      ]
     },
     "execution_count": 91,
     "metadata": {},
     "output_type": "execute_result"
    }
   ],
   "source": [
    "# Train the model\n",
    "dt_new.fit(X_train_new, y_train_new)"
   ]
  },
  {
   "cell_type": "markdown",
   "metadata": {},
   "source": [
    "Now we **make predictions for the evaluation set**:"
   ]
  },
  {
   "cell_type": "code",
   "execution_count": 92,
   "metadata": {},
   "outputs": [],
   "source": [
    "dt_pred_new = dt_new.predict(X_test_new)"
   ]
  },
  {
   "cell_type": "markdown",
   "metadata": {},
   "source": [
    "Let us show the first 20 values the decision tree model predicted:"
   ]
  },
  {
   "cell_type": "code",
   "execution_count": 93,
   "metadata": {
    "scrolled": true
   },
   "outputs": [
    {
     "data": {
      "text/plain": [
       "array(['ACTIVE', 'ACTIVE', 'ACTIVE', 'ACTIVE', 'ACTIVE', 'ACTIVE',\n",
       "       'ACTIVE', 'ACTIVE', 'ACTIVE', 'ACTIVE', 'ACTIVE', 'ACTIVE',\n",
       "       'ACTIVE', 'ACTIVE', 'ACTIVE', 'ACTIVE', 'ACTIVE', 'ACTIVE',\n",
       "       'ACTIVE', 'ACTIVE'], dtype=object)"
      ]
     },
     "execution_count": 93,
     "metadata": {},
     "output_type": "execute_result"
    }
   ],
   "source": [
    "dt_pred_new[:20]"
   ]
  },
  {
   "cell_type": "markdown",
   "metadata": {},
   "source": [
    "In order to count the amount of \"ACTIVE\" and \"TERMINATED\" predictions, we use the numpy command below. It creates an array that contains 1 if the value predicted is \"ACTIVE\" and 0 if \"TERMINATED\"."
   ]
  },
  {
   "cell_type": "code",
   "execution_count": 94,
   "metadata": {},
   "outputs": [],
   "source": [
    "count_act = np.where(dt_pred_new == 'ACTIVE', 1, 0)"
   ]
  },
  {
   "cell_type": "code",
   "execution_count": 95,
   "metadata": {},
   "outputs": [
    {
     "name": "stdout",
     "output_type": "stream",
     "text": [
      "The number of predictions 'ACTIVE' is  4872 .\n"
     ]
    }
   ],
   "source": [
    "print(\"The number of predictions 'ACTIVE' is \", np.sum(count_act), \".\")"
   ]
  },
  {
   "cell_type": "code",
   "execution_count": 96,
   "metadata": {},
   "outputs": [
    {
     "name": "stdout",
     "output_type": "stream",
     "text": [
      "The number of predictions 'TERMINATED' is  89 .\n"
     ]
    }
   ],
   "source": [
    "print(\"The number of predictions 'TERMINATED' is \", len(dt_pred_new) - np.sum(count_act), \".\")"
   ]
  },
  {
   "cell_type": "markdown",
   "metadata": {},
   "source": [
    "The decision tree algorithm predicted that 89 employees will have their contracts terminated for the given year! \n",
    "\n",
    "Let us create a dataframe conataining the information present in the evaluation set and also containing our predictions."
   ]
  },
  {
   "cell_type": "code",
   "execution_count": 97,
   "metadata": {},
   "outputs": [],
   "source": [
    "result = pd.read_csv('eval_set.csv',index_col=0)"
   ]
  },
  {
   "cell_type": "code",
   "execution_count": 98,
   "metadata": {},
   "outputs": [],
   "source": [
    "result['Predicted STATUS'] = dt_pred_new"
   ]
  },
  {
   "cell_type": "markdown",
   "metadata": {},
   "source": [
    "Let us visualize now the head of the resulting dataframe."
   ]
  },
  {
   "cell_type": "code",
   "execution_count": 99,
   "metadata": {},
   "outputs": [
    {
     "data": {
      "text/html": [
       "<div>\n",
       "<style scoped>\n",
       "    .dataframe tbody tr th:only-of-type {\n",
       "        vertical-align: middle;\n",
       "    }\n",
       "\n",
       "    .dataframe tbody tr th {\n",
       "        vertical-align: top;\n",
       "    }\n",
       "\n",
       "    .dataframe thead th {\n",
       "        text-align: right;\n",
       "    }\n",
       "</style>\n",
       "<table border=\"1\" class=\"dataframe\">\n",
       "  <thead>\n",
       "    <tr style=\"text-align: right;\">\n",
       "      <th></th>\n",
       "      <th>EmployeeID</th>\n",
       "      <th>recorddate_key</th>\n",
       "      <th>birthdate_key</th>\n",
       "      <th>orighiredate_key</th>\n",
       "      <th>age</th>\n",
       "      <th>length_of_service</th>\n",
       "      <th>city_name</th>\n",
       "      <th>department_name</th>\n",
       "      <th>job_title</th>\n",
       "      <th>store_name</th>\n",
       "      <th>gender_short</th>\n",
       "      <th>gender_full</th>\n",
       "      <th>STATUS_YEAR</th>\n",
       "      <th>BUSINESS_UNIT</th>\n",
       "      <th>Predicted STATUS</th>\n",
       "    </tr>\n",
       "  </thead>\n",
       "  <tbody>\n",
       "    <tr>\n",
       "      <th>10</th>\n",
       "      <td>1318</td>\n",
       "      <td>12/31/2015 0:00</td>\n",
       "      <td>1/3/1954</td>\n",
       "      <td>8/28/1989</td>\n",
       "      <td>61</td>\n",
       "      <td>26</td>\n",
       "      <td>Vancouver</td>\n",
       "      <td>Executive</td>\n",
       "      <td>CEO</td>\n",
       "      <td>35</td>\n",
       "      <td>M</td>\n",
       "      <td>Male</td>\n",
       "      <td>2015</td>\n",
       "      <td>HEADOFFICE</td>\n",
       "      <td>ACTIVE</td>\n",
       "    </tr>\n",
       "    <tr>\n",
       "      <th>20</th>\n",
       "      <td>1319</td>\n",
       "      <td>12/31/2015 0:00</td>\n",
       "      <td>1/3/1957</td>\n",
       "      <td>8/28/1989</td>\n",
       "      <td>58</td>\n",
       "      <td>26</td>\n",
       "      <td>Vancouver</td>\n",
       "      <td>Executive</td>\n",
       "      <td>VP Stores</td>\n",
       "      <td>35</td>\n",
       "      <td>F</td>\n",
       "      <td>Female</td>\n",
       "      <td>2015</td>\n",
       "      <td>HEADOFFICE</td>\n",
       "      <td>ACTIVE</td>\n",
       "    </tr>\n",
       "    <tr>\n",
       "      <th>30</th>\n",
       "      <td>1320</td>\n",
       "      <td>12/31/2015 0:00</td>\n",
       "      <td>1/2/1955</td>\n",
       "      <td>8/28/1989</td>\n",
       "      <td>60</td>\n",
       "      <td>26</td>\n",
       "      <td>Vancouver</td>\n",
       "      <td>Executive</td>\n",
       "      <td>Legal Counsel</td>\n",
       "      <td>35</td>\n",
       "      <td>F</td>\n",
       "      <td>Female</td>\n",
       "      <td>2015</td>\n",
       "      <td>HEADOFFICE</td>\n",
       "      <td>ACTIVE</td>\n",
       "    </tr>\n",
       "  </tbody>\n",
       "</table>\n",
       "</div>"
      ],
      "text/plain": [
       "    EmployeeID   recorddate_key birthdate_key orighiredate_key  age  \\\n",
       "10        1318  12/31/2015 0:00      1/3/1954        8/28/1989   61   \n",
       "20        1319  12/31/2015 0:00      1/3/1957        8/28/1989   58   \n",
       "30        1320  12/31/2015 0:00      1/2/1955        8/28/1989   60   \n",
       "\n",
       "    length_of_service  city_name department_name      job_title  store_name  \\\n",
       "10                 26  Vancouver       Executive            CEO          35   \n",
       "20                 26  Vancouver       Executive      VP Stores          35   \n",
       "30                 26  Vancouver       Executive  Legal Counsel          35   \n",
       "\n",
       "   gender_short gender_full  STATUS_YEAR BUSINESS_UNIT Predicted STATUS  \n",
       "10            M        Male         2015    HEADOFFICE           ACTIVE  \n",
       "20            F      Female         2015    HEADOFFICE           ACTIVE  \n",
       "30            F      Female         2015    HEADOFFICE           ACTIVE  "
      ]
     },
     "execution_count": 99,
     "metadata": {},
     "output_type": "execute_result"
    }
   ],
   "source": [
    "result.head(3)"
   ]
  },
  {
   "cell_type": "markdown",
   "metadata": {},
   "source": [
    "The algorithm predicted that the employees given below are more likely to leave the company."
   ]
  },
  {
   "cell_type": "code",
   "execution_count": 100,
   "metadata": {},
   "outputs": [],
   "source": [
    "departed = result[result['Predicted STATUS'] == 'TERMINATED']"
   ]
  },
  {
   "cell_type": "code",
   "execution_count": 101,
   "metadata": {},
   "outputs": [
    {
     "data": {
      "text/html": [
       "<div>\n",
       "<style scoped>\n",
       "    .dataframe tbody tr th:only-of-type {\n",
       "        vertical-align: middle;\n",
       "    }\n",
       "\n",
       "    .dataframe tbody tr th {\n",
       "        vertical-align: top;\n",
       "    }\n",
       "\n",
       "    .dataframe thead th {\n",
       "        text-align: right;\n",
       "    }\n",
       "</style>\n",
       "<table border=\"1\" class=\"dataframe\">\n",
       "  <thead>\n",
       "    <tr style=\"text-align: right;\">\n",
       "      <th></th>\n",
       "      <th>EmployeeID</th>\n",
       "      <th>recorddate_key</th>\n",
       "      <th>birthdate_key</th>\n",
       "      <th>orighiredate_key</th>\n",
       "      <th>age</th>\n",
       "      <th>length_of_service</th>\n",
       "      <th>city_name</th>\n",
       "      <th>department_name</th>\n",
       "      <th>job_title</th>\n",
       "      <th>store_name</th>\n",
       "      <th>gender_short</th>\n",
       "      <th>gender_full</th>\n",
       "      <th>STATUS_YEAR</th>\n",
       "      <th>BUSINESS_UNIT</th>\n",
       "      <th>Predicted STATUS</th>\n",
       "    </tr>\n",
       "  </thead>\n",
       "  <tbody>\n",
       "    <tr>\n",
       "      <th>31801</th>\n",
       "      <td>5885</td>\n",
       "      <td>12/31/2015 0:00</td>\n",
       "      <td>12/4/1975</td>\n",
       "      <td>11/15/2003</td>\n",
       "      <td>40</td>\n",
       "      <td>12</td>\n",
       "      <td>Port Coquitlam</td>\n",
       "      <td>Customer Service</td>\n",
       "      <td>Cashier</td>\n",
       "      <td>25</td>\n",
       "      <td>M</td>\n",
       "      <td>Male</td>\n",
       "      <td>2015</td>\n",
       "      <td>STORES</td>\n",
       "      <td>TERMINATED</td>\n",
       "    </tr>\n",
       "    <tr>\n",
       "      <th>38062</th>\n",
       "      <td>6537</td>\n",
       "      <td>12/31/2015 0:00</td>\n",
       "      <td>2/10/1981</td>\n",
       "      <td>8/11/2006</td>\n",
       "      <td>34</td>\n",
       "      <td>9</td>\n",
       "      <td>Fort St John</td>\n",
       "      <td>Bakery</td>\n",
       "      <td>Baker</td>\n",
       "      <td>12</td>\n",
       "      <td>F</td>\n",
       "      <td>Female</td>\n",
       "      <td>2015</td>\n",
       "      <td>STORES</td>\n",
       "      <td>TERMINATED</td>\n",
       "    </tr>\n",
       "    <tr>\n",
       "      <th>38072</th>\n",
       "      <td>6538</td>\n",
       "      <td>12/31/2015 0:00</td>\n",
       "      <td>2/12/1981</td>\n",
       "      <td>8/12/2006</td>\n",
       "      <td>34</td>\n",
       "      <td>9</td>\n",
       "      <td>Fort St John</td>\n",
       "      <td>Dairy</td>\n",
       "      <td>Dairy Person</td>\n",
       "      <td>12</td>\n",
       "      <td>M</td>\n",
       "      <td>Male</td>\n",
       "      <td>2015</td>\n",
       "      <td>STORES</td>\n",
       "      <td>TERMINATED</td>\n",
       "    </tr>\n",
       "  </tbody>\n",
       "</table>\n",
       "</div>"
      ],
      "text/plain": [
       "       EmployeeID   recorddate_key birthdate_key orighiredate_key  age  \\\n",
       "31801        5885  12/31/2015 0:00     12/4/1975       11/15/2003   40   \n",
       "38062        6537  12/31/2015 0:00     2/10/1981        8/11/2006   34   \n",
       "38072        6538  12/31/2015 0:00     2/12/1981        8/12/2006   34   \n",
       "\n",
       "       length_of_service       city_name   department_name     job_title  \\\n",
       "31801                 12  Port Coquitlam  Customer Service       Cashier   \n",
       "38062                  9    Fort St John            Bakery         Baker   \n",
       "38072                  9    Fort St John             Dairy  Dairy Person   \n",
       "\n",
       "       store_name gender_short gender_full  STATUS_YEAR BUSINESS_UNIT  \\\n",
       "31801          25            M        Male         2015        STORES   \n",
       "38062          12            F      Female         2015        STORES   \n",
       "38072          12            M        Male         2015        STORES   \n",
       "\n",
       "      Predicted STATUS  \n",
       "31801       TERMINATED  \n",
       "38062       TERMINATED  \n",
       "38072       TERMINATED  "
      ]
     },
     "execution_count": 101,
     "metadata": {},
     "output_type": "execute_result"
    }
   ],
   "source": [
    "departed.head(3)"
   ]
  },
  {
   "cell_type": "code",
   "execution_count": 102,
   "metadata": {},
   "outputs": [
    {
     "data": {
      "image/png": "[encoded data removed]",
      "text/plain": [
       "<Figure size 1152x576 with 1 Axes>"
      ]
     },
     "metadata": {
      "needs_background": "light"
     },
     "output_type": "display_data"
    }
   ],
   "source": [
    "plt.figure(figsize=(16,8))\n",
    "ax = sns.countplot(data=departed, x='age', hue='gender_short')\n",
    "\n",
    "\n",
    "ax.set_xticklabels(ax.get_xticklabels(), rotation=40, ha=\"right\")\n",
    "ax.set_title('NUMBER OF TERMINATED CONTRACTS BY AGE')\n",
    "plt.tight_layout()"
   ]
  },
  {
   "cell_type": "code",
   "execution_count": 103,
   "metadata": {},
   "outputs": [
    {
     "name": "stdout",
     "output_type": "stream",
     "text": [
      "The number of people of the gender masculine that will leave the company is  12 .\n"
     ]
    }
   ],
   "source": [
    "print(\"The number of people of the gender masculine that will leave the company is \", departed[departed['gender_short'] == 'M'].shape[0], \".\")"
   ]
  },
  {
   "cell_type": "code",
   "execution_count": 104,
   "metadata": {},
   "outputs": [
    {
     "name": "stdout",
     "output_type": "stream",
     "text": [
      "The number of people of the gender feminine that will leave the company is  77 .\n"
     ]
    }
   ],
   "source": [
    "print(\"The number of people of the gender feminine that will leave the company is \", departed[departed['gender_short'] == 'F'].shape[0], \".\")"
   ]
  },
  {
   "cell_type": "code",
   "execution_count": 105,
   "metadata": {},
   "outputs": [
    {
     "name": "stdout",
     "output_type": "stream",
     "text": [
      "Among the 77 women that will leave the company  63 of them is at the age of 65.\n"
     ]
    }
   ],
   "source": [
    "print(\"Among the 77 women that will leave the company \", departed[(departed['gender_short'] == 'F') & (departed['age'] == 65)].shape[0], \"of them is at the age of 65.\")"
   ]
  },
  {
   "cell_type": "markdown",
   "metadata": {},
   "source": [
    "This type of analysis might be repeated so that we might draw other conclusions as well."
   ]
  },
  {
   "cell_type": "markdown",
   "metadata": {},
   "source": [
    "# 8. Proposed next steps\n",
    "\n",
    "Our MVP already has a great prediction power. Here we propose steps the might be taken in order to sophisticate the data science approach. These might include:\n",
    "\n",
    "    i. If possible, test other models, or combination of them. Stick with the one that contains both elements of simplicity, robustness, and strong predictive power\n",
    "    ii. Study more closely the feature importance aspect and the correlations between features before the feature selection process\n",
    "    iii. Meet with the business team, show them the predictions, and use their experience to try to map under solid grounds the reason why the model presented such results (retirement, career progress, age, etc)\n",
    "    iv. Create a project with clear steps and deadlines in order to deploy the final model."
   ]
  },
  {
   "cell_type": "code",
   "execution_count": null,
   "metadata": {},
   "outputs": [],
   "source": []
  }
 ],
 "metadata": {
  "kernelspec": {
   "display_name": "Python 3",
   "language": "python",
   "name": "python3"
  },
  "language_info": {
   "codemirror_mode": {
    "name": "ipython",
    "version": 3
   },
   "file_extension": ".py",
   "mimetype": "text/x-python",
   "name": "python",
   "nbconvert_exporter": "python",
   "pygments_lexer": "ipython3",
   "version": "3.6.7"
  }
 },
 "nbformat": 4,
 "nbformat_minor": 2
}
